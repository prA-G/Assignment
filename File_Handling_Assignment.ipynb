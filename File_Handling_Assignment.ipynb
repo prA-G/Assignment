{
  "nbformat": 4,
  "nbformat_minor": 0,
  "metadata": {
    "colab": {
      "provenance": []
    },
    "kernelspec": {
      "name": "python3",
      "display_name": "Python 3"
    },
    "language_info": {
      "name": "python"
    }
  },
  "cells": [
    {
      "cell_type": "markdown",
      "source": [
        "# File Handling Questions."
      ],
      "metadata": {
        "id": "2QYsSh0GoXDh"
      }
    },
    {
      "cell_type": "markdown",
      "source": [
        "## 1. What is difference between interpreted and compiled languages?"
      ],
      "metadata": {
        "id": "OI85VrraoW_4"
      }
    },
    {
      "cell_type": "markdown",
      "source": [
        "**Interpreted Language**  \n",
        "- Code runs line by line.  \n",
        "- Slower in execution.  \n",
        "- Errors are shown one by one while running.  \n",
        "- No separate executable file is created.  \n",
        "- Example: Python, JavaScript.\n",
        "\n",
        "**Compiled Language**  \n",
        "- Whole code is converted into machine code before execution.  \n",
        "- Faster in execution.  \n",
        "- All errors are shown after compilation.  \n",
        "- Creates a separate `.exe` or binary file.  \n",
        "- Example: C, C++.\n"
      ],
      "metadata": {
        "id": "lggw2gIevv25"
      }
    },
    {
      "cell_type": "markdown",
      "source": [
        "## 2. What is exception handling in Python?"
      ],
      "metadata": {
        "id": "Eqfu8qHUoW9a"
      }
    },
    {
      "cell_type": "markdown",
      "source": [
        "\n",
        "**Exception handling** is a way to handle **errors** in Python without crashing the program.\n",
        "\n",
        "Instead of showing error and stopping the code, we use:\n",
        "- `try` → write the risky code here  \n",
        "- `except` → write what to do if error happens  \n",
        "- `finally` : runs no matter what  \n",
        "- `else` : runs if no error\n"
      ],
      "metadata": {
        "id": "K1NHErgVwKmR"
      }
    },
    {
      "cell_type": "markdown",
      "source": [
        "## 3. What is the purpose of the finally block in exception handling?"
      ],
      "metadata": {
        "id": "IFGcEGBEoW7I"
      }
    },
    {
      "cell_type": "markdown",
      "source": [
        "The `finally` block is used to write code that should **always run**,  \n",
        "no matter if an error occurred or not.\n",
        "\n",
        "Its mostly used to **clean up resources** like:\n",
        "- Closing files  \n",
        "- Releasing memory  \n",
        "- Disconnecting from databases\n"
      ],
      "metadata": {
        "id": "ry-X6Dw1wn_1"
      }
    },
    {
      "cell_type": "markdown",
      "source": [
        "## 4. What is logging in Python?"
      ],
      "metadata": {
        "id": "K0Kbs2SuoW4l"
      }
    },
    {
      "cell_type": "markdown",
      "source": [
        "**Logging** in Python means keeping track of what your program is doing while it runs.  \n",
        "It helps in **debugging**, **error tracking**, and understanding the program flow.\n"
      ],
      "metadata": {
        "id": "UJ9L8AkBwxhj"
      }
    },
    {
      "cell_type": "markdown",
      "source": [
        "## 5. What is significance of the _ _ del _ _ method in Python?"
      ],
      "metadata": {
        "id": "acmAM1sfoW3A"
      }
    },
    {
      "cell_type": "markdown",
      "source": [
        "The `__del__` method is a **destructor** in Python.  \n",
        "It is called **automatically** when an object is deleted or goes out of memory.\n",
        "\n",
        "**Purpose:**  \n",
        "To **clean up resources** like closing files, releasing memory, or disconnecting from a database.\n"
      ],
      "metadata": {
        "id": "cu7LauClw6-z"
      }
    },
    {
      "cell_type": "markdown",
      "source": [
        "## 6. What is difference between import and from ... import in python?"
      ],
      "metadata": {
        "id": "cNFjwToCoW0Q"
      }
    },
    {
      "cell_type": "markdown",
      "source": [
        "`import`  \n",
        "- Imports the **whole module**  \n",
        "- You need to use the **module name** to access functions\n",
        "\n",
        "`from` ... `import`\n",
        "- Imports specific part (like a function or class)\n",
        "\n",
        "- You don’t need to use the module name\n"
      ],
      "metadata": {
        "id": "mW_ulqddxSnx"
      }
    },
    {
      "cell_type": "markdown",
      "source": [
        "## 7. How can you handle multiple extensions in Python?"
      ],
      "metadata": {
        "id": "VaUM0kr1oWyK"
      }
    },
    {
      "cell_type": "markdown",
      "source": [
        "\n",
        "- to handle exception we use try catch block\n",
        "- whenever exception occurs Python stops the program and generate exceptions or error\n",
        "- Handling this exception is advised\n",
        "- Every code that is risky or suspicious, you should do exception handling."
      ],
      "metadata": {
        "id": "xxO9Mjmmxx_x"
      }
    },
    {
      "cell_type": "code",
      "source": [
        "try:\n",
        "    10/0\n",
        "except (ZeroDivisionError, TypeError) as e:\n",
        "    print(\"The division is not possible due to error :\",e)"
      ],
      "metadata": {
        "colab": {
          "base_uri": "https://localhost:8080/"
        },
        "id": "5P9qQ-RlyuFY",
        "outputId": "44e458c0-c170-4a2a-a24c-971a63296f6a"
      },
      "execution_count": 1,
      "outputs": [
        {
          "output_type": "stream",
          "name": "stdout",
          "text": [
            "The division is not possible due to error : division by zero\n"
          ]
        }
      ]
    },
    {
      "cell_type": "markdown",
      "source": [
        "## 8. What is the purpose of the with statement when handling files in Python?"
      ],
      "metadata": {
        "id": "98T9gXdzpZCx"
      }
    },
    {
      "cell_type": "markdown",
      "source": [
        "The `with` statement is used to **open files safely** in Python."
      ],
      "metadata": {
        "id": "BI8Qm5KQzWnk"
      }
    },
    {
      "cell_type": "markdown",
      "source": [
        "## 9. What is the difference between multithreading and multiprocessing?"
      ],
      "metadata": {
        "id": "akmL51H0oWvl"
      }
    },
    {
      "cell_type": "markdown",
      "source": [
        "- MULTIPROCESSING : Process runs parallely on multiprocessors\n",
        "- MULTITHREADING : Process runs concurrently on multiple threads."
      ],
      "metadata": {
        "id": "1M6D6uuWzcLh"
      }
    },
    {
      "cell_type": "markdown",
      "source": [
        "## 10. What are the advantages of using logging in a program?"
      ],
      "metadata": {
        "id": "v4K-o3dxoWtQ"
      }
    },
    {
      "cell_type": "markdown",
      "source": [
        "- Helps track the flow of a program  \n",
        "- Makes it easy to debug errors  \n",
        "- Can record warnings, errors, and info in a file  \n",
        "- Better than `print()` for large applications  \n",
        "- You can set log levels (INFO, DEBUG, ERROR, etc.)  \n",
        "- Helps in monitoring real-time systems"
      ],
      "metadata": {
        "id": "sG_fPZtGzxEZ"
      }
    },
    {
      "cell_type": "markdown",
      "source": [
        "## 11. What is memory management in Python?"
      ],
      "metadata": {
        "id": "HF6Psl3poWrB"
      }
    },
    {
      "cell_type": "markdown",
      "source": [
        "Memory management in Python means how Python **stores and frees up memory** while running a program.\n"
      ],
      "metadata": {
        "id": "dtUXBhKq0MiY"
      }
    },
    {
      "cell_type": "markdown",
      "source": [
        "## 12. What are the basic steps involved in exception handling in Python?"
      ],
      "metadata": {
        "id": "j9dZ8vVZoWo4"
      }
    },
    {
      "cell_type": "markdown",
      "source": [
        "1. **try** : Write the code that might throw an error  \n",
        "2. **except** : Handle the error if it happens  \n",
        "3. **else** : Runs if no error occurs  \n",
        "4. **finally** : Always runs (for cleanup)"
      ],
      "metadata": {
        "id": "MhJJzrze0TX2"
      }
    },
    {
      "cell_type": "markdown",
      "source": [
        "## 13. Why is memory management important in Python?"
      ],
      "metadata": {
        "id": "3T0fkLCroWmu"
      }
    },
    {
      "cell_type": "markdown",
      "source": [
        "\n",
        "- Improved performance\n",
        "- Effecient\n",
        "- Resource sharing\n",
        "- Fast execution\n",
        "- Scalable"
      ],
      "metadata": {
        "id": "9hxCMmia08Vw"
      }
    },
    {
      "cell_type": "markdown",
      "source": [
        "## 14. What is the role of try and except in exceptions handling?"
      ],
      "metadata": {
        "id": "OJoE2LB1oWkv"
      }
    },
    {
      "cell_type": "markdown",
      "source": [
        "Role of `try`:\n",
        "- Wraps the risky code that might throw an error\n",
        "\n",
        "Role of `except`:\n",
        "- Catches the error if it happens in the `try` block  \n",
        "- Prevents the program from crashing  \n"
      ],
      "metadata": {
        "id": "N_HXj7_91Bcn"
      }
    },
    {
      "cell_type": "markdown",
      "source": [
        "## 15. How does Python's garbage collection system work?"
      ],
      "metadata": {
        "id": "cY9HdO4uoWi1"
      }
    },
    {
      "cell_type": "markdown",
      "source": [
        "Python's **garbage collection system** automatically removes **unused objects** from memory to keep things clean and fast.\n",
        "\n",
        "- How it works:\n",
        "\n",
        "1. Reference Counting  \n",
        "   - Every object keeps count of how many variables are using it  \n",
        "   - When count drops to zero, it's deleted\n",
        "\n",
        "2. Garbage Collector (gc module)  \n",
        "   - Cleans up objects involved in circular references (like two objects referring to each other)\n"
      ],
      "metadata": {
        "id": "Y4qYEz_11zJU"
      }
    },
    {
      "cell_type": "markdown",
      "source": [
        "## 16. What is the purpose of the else block in exception handling?"
      ],
      "metadata": {
        "id": "0n2vn3FroWgM"
      }
    },
    {
      "cell_type": "markdown",
      "source": [
        "**Use case of Else:**\n",
        "- You want to execute some code only if the try statement is successful and code doesn't enter into exception block.\n",
        "- else block is very helpful when your code didn't enter the exception block\n",
        "- for exmaple if you wanted to close the file after it was opened in try block"
      ],
      "metadata": {
        "id": "GkYv9YqY2gGJ"
      }
    },
    {
      "cell_type": "markdown",
      "source": [
        "## 17. What are the common logging levels in Python?\n",
        "\n"
      ],
      "metadata": {
        "id": "27B-UildoWda"
      }
    },
    {
      "cell_type": "markdown",
      "source": [
        "1. **DEBUG**\n",
        "- Lowest level of logging.\n",
        "- Used to give detailed info of any anything.\n",
        "- Or to give any messages.\n",
        "2. **INFO**\n",
        "- Used to convey that the code is working as expected.\n",
        "3. ** WARNING**\n",
        "- Used to indicate something unexpected happens or potential issue in the code.\n",
        "4. **ERROR**\n",
        "- Serious problem with some functions\n",
        "5. **CRITICAL**\n",
        "- Highest debug level, extremely serious error.\n",
        "- Termination of program, code, software."
      ],
      "metadata": {
        "id": "JOsEVEH72-pf"
      }
    },
    {
      "cell_type": "markdown",
      "source": [
        "## 18. What is the difference between od.fork() and multiprocessing in Python?"
      ],
      "metadata": {
        "id": "Tzk5J_U8qW59"
      }
    },
    {
      "cell_type": "markdown",
      "source": [
        "- `os.fork()`\n",
        "- Creates a **child process** by duplicating the current process  \n",
        "- Works only on **Unix/Linux** (Not available on Windows)  \n",
        "- Low-level, **manual handling** of process logic  \n",
        "- No built-in way to share data safely\n",
        "\n",
        "- `multiprocessing` module\n",
        "- Cross-platform (Works on Windows, Linux, Mac)  \n",
        "- High-level, **easy-to-use** API  \n",
        "- Automatically handles **process creation**, **communication**, and **synchronization**  \n",
        "- Safer and more flexible for modern apps"
      ],
      "metadata": {
        "id": "YuYow6YI3k_h"
      }
    },
    {
      "cell_type": "markdown",
      "source": [
        "## 19. What is the importance of closing a file in Python?"
      ],
      "metadata": {
        "id": "Wo-u8QLHqW2M"
      }
    },
    {
      "cell_type": "markdown",
      "source": [
        "Closing a file is important because it:\n",
        "\n",
        "- **Frees up system resources**  \n",
        "- **Saves any changes** made to the file  \n",
        "- Prevents **file corruption or data loss**  \n",
        "- Avoids too many open files (which can crash your program)"
      ],
      "metadata": {
        "id": "3sLhy2gg3zSX"
      }
    },
    {
      "cell_type": "markdown",
      "source": [
        "## 20. What is difference between file.read() and file.reading()?"
      ],
      "metadata": {
        "id": "t2vb26CCqWzq"
      }
    },
    {
      "cell_type": "markdown",
      "source": [
        "`file.read()`\n",
        "- A **real method** in Python\n",
        "- Reads the **entire content** of a file as a string\n",
        "\n",
        "`file.reading()` will throw AttributeError"
      ],
      "metadata": {
        "id": "nMuAuXEX4BQB"
      }
    },
    {
      "cell_type": "markdown",
      "source": [
        "## 21. What is the logging module in python used for?"
      ],
      "metadata": {
        "id": "E-16Y-LSqWxB"
      }
    },
    {
      "cell_type": "markdown",
      "source": [
        "The `logging` module is used to:\n",
        "\n",
        "- **Record messages** from your program (like errors, warnings, info)  \n",
        "- Help in **debugging and monitoring** the app  \n",
        "- Save logs to a **file or console**  \n",
        "- Control the **level of details** shown (like DEBUG, INFO, ERROR)"
      ],
      "metadata": {
        "id": "n2GTnEFd4Pb6"
      }
    },
    {
      "cell_type": "markdown",
      "source": [
        "## 22. What is the os module in Python used for in file handling?"
      ],
      "metadata": {
        "id": "7qj6IaBqqWuo"
      }
    },
    {
      "cell_type": "markdown",
      "source": [
        "The `os` module lets you **interact with the operating system**, especially for file and folder tasks.\n",
        "\n",
        "- Common uses in file handling:\n",
        "- Create, delete, rename files and folders  \n",
        "- Check if a file/folder exists  \n",
        "- Work with file paths  \n",
        "- Navigate directorie"
      ],
      "metadata": {
        "id": "wJkkUnxE4Yuf"
      }
    },
    {
      "cell_type": "markdown",
      "source": [
        "## 23. What are the challenges associate with memory management in Python?\n"
      ],
      "metadata": {
        "id": "j1DScw72qWsn"
      }
    },
    {
      "cell_type": "markdown",
      "source": [
        "Even though Python handles memory **automatically**, there are still some challenges:\n",
        "\n",
        "- Common Challenges:\n",
        "\n",
        "1. **Memory Leaks**  \n",
        "   - Unused objects not collected due to circular references or poor coding\n",
        "\n",
        "2. **High Memory Usage**  \n",
        "   - Large data structures or inefficient code can eat up memory fast\n",
        "\n",
        "3. **Garbage Collection Overhead**  \n",
        "   - GC can slow down performance in some cases"
      ],
      "metadata": {
        "id": "uOQbM35R4zIN"
      }
    },
    {
      "cell_type": "markdown",
      "source": [
        "## 24. How do you raise an exception manually in Python?"
      ],
      "metadata": {
        "id": "DyZGauJ5qWpX"
      }
    },
    {
      "cell_type": "markdown",
      "source": [
        "You can raise an exception manually using the **`raise`** keyword.\n",
        "\n",
        "- Syntax:\n",
        "- raise ExceptionType(\"Custom error message\")"
      ],
      "metadata": {
        "id": "_QKCc4JL5Bh3"
      }
    },
    {
      "cell_type": "markdown",
      "source": [
        "## 25. Why is it important to use multithreading in certain applications?"
      ],
      "metadata": {
        "id": "SEtrwCl1qWkw"
      }
    },
    {
      "cell_type": "markdown",
      "source": [
        "- **Run multiple tasks at the same time**  \n",
        "  (like downloading files while updating UI)  \n",
        "- Improve **performance** in I/O-bound tasks  \n",
        "  (e.g., reading/writing files, making API calls)  \n",
        "- Make apps feel **faster and more responsive**  \n",
        "- Handle **background work** without freezing the main program"
      ],
      "metadata": {
        "id": "WSOmsyLM5_zA"
      }
    },
    {
      "cell_type": "markdown",
      "source": [
        "# Practical Questions"
      ],
      "metadata": {
        "id": "QEx5lqo7qWf9"
      }
    },
    {
      "cell_type": "markdown",
      "source": [
        "## 1. How can you open a file for writing in Python and write a string to it?"
      ],
      "metadata": {
        "id": "I0CdHaNAqWa7"
      }
    },
    {
      "cell_type": "code",
      "source": [
        "\n",
        "with open(\"example.txt\", \"w\") as file:\n",
        "    file.write(\"Hello, this is my first file!\")\n",
        "\n",
        "print(\"File written successfully \")\n"
      ],
      "metadata": {
        "colab": {
          "base_uri": "https://localhost:8080/"
        },
        "id": "r722XL9-6UxB",
        "outputId": "be0f785a-690a-4e8a-fffc-25535496bc9f"
      },
      "execution_count": 2,
      "outputs": [
        {
          "output_type": "stream",
          "name": "stdout",
          "text": [
            "File written successfully \n"
          ]
        }
      ]
    },
    {
      "cell_type": "markdown",
      "source": [
        "## 2. Write a Python program to read the contents of a file and print each line."
      ],
      "metadata": {
        "id": "joLDDKgPqWWM"
      }
    },
    {
      "cell_type": "code",
      "source": [
        "with open(\"example.txt\", \"r\") as file:\n",
        "    for line in file:\n",
        "        print(line.strip())\n"
      ],
      "metadata": {
        "colab": {
          "base_uri": "https://localhost:8080/"
        },
        "id": "veLVrdoI6izU",
        "outputId": "19deea9c-a7b0-4ea4-d4aa-370e48e2ce5c"
      },
      "execution_count": 3,
      "outputs": [
        {
          "output_type": "stream",
          "name": "stdout",
          "text": [
            "Hello, this is my first file!\n"
          ]
        }
      ]
    },
    {
      "cell_type": "markdown",
      "source": [
        "## 3. How could you handle a case where the file doesn't exist while trying to open it for reading."
      ],
      "metadata": {
        "id": "Y8iJ4LxbqWSV"
      }
    },
    {
      "cell_type": "code",
      "source": [
        "try:\n",
        "    with open(\"file_new.txt\", \"r\") as file:\n",
        "        content = file.read()\n",
        "        print(content)\n",
        "except FileNotFoundError:\n",
        "    print(\"File not found. Please create a new file.\")\n"
      ],
      "metadata": {
        "colab": {
          "base_uri": "https://localhost:8080/"
        },
        "id": "trcuDyto6vji",
        "outputId": "77069072-614d-4edb-ded9-910a7e4944fd"
      },
      "execution_count": 4,
      "outputs": [
        {
          "output_type": "stream",
          "name": "stdout",
          "text": [
            "File not found. Please create a new file.\n"
          ]
        }
      ]
    },
    {
      "cell_type": "markdown",
      "source": [
        "## 4. Write a Python scripts that reads from one file and write its contents to another file."
      ],
      "metadata": {
        "id": "a8TCwnDKqWP2"
      }
    },
    {
      "cell_type": "code",
      "source": [
        "\n",
        "with open(\"example.txt\", \"r\") as source_file:\n",
        "    content = source_file.read()\n",
        "\n",
        "with open(\"destination.txt\", \"w\") as dest_file:\n",
        "    dest_file.write(content)\n",
        "\n",
        "print(\"Contents copied from source.txt to destination.txt\")\n"
      ],
      "metadata": {
        "colab": {
          "base_uri": "https://localhost:8080/"
        },
        "id": "juD7EeKK7E1W",
        "outputId": "32000788-9c57-4b10-e7da-68abec44a7c2"
      },
      "execution_count": 9,
      "outputs": [
        {
          "output_type": "stream",
          "name": "stdout",
          "text": [
            "Contents copied from source.txt to destination.txt\n"
          ]
        }
      ]
    },
    {
      "cell_type": "markdown",
      "source": [
        "## 5. How could you catch and handle divisio by zero error in Python?"
      ],
      "metadata": {
        "id": "nn2MpZomqWNT"
      }
    },
    {
      "cell_type": "code",
      "source": [
        "try:\n",
        "    a = 10\n",
        "    b = 0\n",
        "    result = a / b\n",
        "    print(\"Result:\", result)\n",
        "except ZeroDivisionError:\n",
        "    print(\"Cannot divide by zero!\")\n"
      ],
      "metadata": {
        "colab": {
          "base_uri": "https://localhost:8080/"
        },
        "id": "BHiCGb2A8AsY",
        "outputId": "ad1516bf-4de1-4def-ebb0-5a95f45306da"
      },
      "execution_count": 11,
      "outputs": [
        {
          "output_type": "stream",
          "name": "stdout",
          "text": [
            "Cannot divide by zero!\n"
          ]
        }
      ]
    },
    {
      "cell_type": "markdown",
      "source": [
        "## 6. Write a Python program that logs an error message to a log file when a division by zero exception occurs."
      ],
      "metadata": {
        "id": "ZUAeAh-KqWKZ"
      }
    },
    {
      "cell_type": "code",
      "source": [
        "import logging\n",
        "\n",
        "logging.basicConfig(filename=\"error_log.txt\", level=logging.ERROR, format='%(asctime)s - %(levelname)s - %(message)s')\n",
        "\n",
        "try:\n",
        "    a = 10\n",
        "    b = 0\n",
        "    result = a / b\n",
        "except ZeroDivisionError as e:\n",
        "    logging.error(\"Division by zero error occurred: %s\", e)\n",
        "    print(\" Error logged to error_log.txt\")\n"
      ],
      "metadata": {
        "colab": {
          "base_uri": "https://localhost:8080/"
        },
        "id": "DHSFbsgt8XLI",
        "outputId": "4d04c451-fe11-43d7-9127-06ab07033ffe"
      },
      "execution_count": 12,
      "outputs": [
        {
          "output_type": "stream",
          "name": "stderr",
          "text": [
            "ERROR:root:Division by zero error occurred: division by zero\n"
          ]
        },
        {
          "output_type": "stream",
          "name": "stdout",
          "text": [
            " Error logged to error_log.txt\n"
          ]
        }
      ]
    },
    {
      "cell_type": "markdown",
      "source": [
        "## 7. How do you log information at different levels (INFO, ERROR, WARNING) in Python using logging method."
      ],
      "metadata": {
        "id": "4tsai5NMqWIM"
      }
    },
    {
      "cell_type": "code",
      "source": [
        "import logging\n",
        "logging.basicConfig(filename = \"test_new.log\", level= logging.DEBUG, format= '%(asctime)s - %(levelname)s - %(message)s')\n",
        "\n",
        "logging.debug(\"This msg is for debugging..\")\n",
        "logging.info(\"This is info msg..\")\n",
        "logging.warning(\"This is warning msg..\")\n",
        "logging.error(\"This is error msg..\")\n",
        "\n",
        "logging.shutdown()"
      ],
      "metadata": {
        "colab": {
          "base_uri": "https://localhost:8080/"
        },
        "id": "UrV9t1en80a7",
        "outputId": "50f29158-4a34-4f6f-97fb-98714bbb26ae"
      },
      "execution_count": 15,
      "outputs": [
        {
          "output_type": "stream",
          "name": "stderr",
          "text": [
            "WARNING:root:This is warning msg..\n",
            "ERROR:root:This is error msg..\n"
          ]
        }
      ]
    },
    {
      "cell_type": "markdown",
      "source": [
        "## 8. WAP to handle a file opening error using exception handling."
      ],
      "metadata": {
        "id": "NfTZ_zuqqWGO"
      }
    },
    {
      "cell_type": "code",
      "source": [
        "try:\n",
        "    with open(\"nonexistent_file.txt\", \"r\") as file:\n",
        "        data = file.read()\n",
        "        print(data)\n",
        "except FileNotFoundError:\n",
        "    print(\"Error: The file does not exist.\")\n"
      ],
      "metadata": {
        "colab": {
          "base_uri": "https://localhost:8080/"
        },
        "id": "2metIAf49oCV",
        "outputId": "57ca35d3-6129-4406-c823-1fae500a3fcd"
      },
      "execution_count": 16,
      "outputs": [
        {
          "output_type": "stream",
          "name": "stdout",
          "text": [
            "Error: The file does not exist.\n"
          ]
        }
      ]
    },
    {
      "cell_type": "markdown",
      "source": [
        "## 9. How can you read a file line by line and store its content in a list in Python?"
      ],
      "metadata": {
        "id": "FQ-iY_-fqWED"
      }
    },
    {
      "cell_type": "code",
      "source": [
        "with open(\"example.txt\", \"r\") as file:\n",
        "    lines = file.readlines()\n",
        "\n",
        "# Remove newline characters\n",
        "lines = [line.strip() for line in lines]\n",
        "\n",
        "print(\"File content as list:\")\n",
        "print(lines)\n"
      ],
      "metadata": {
        "colab": {
          "base_uri": "https://localhost:8080/"
        },
        "id": "z2pjQlo59xnW",
        "outputId": "0655fc7f-421b-43bf-c314-d6a34b1e85bd"
      },
      "execution_count": 17,
      "outputs": [
        {
          "output_type": "stream",
          "name": "stdout",
          "text": [
            "File content as list:\n",
            "['Hello, this is my first file!']\n"
          ]
        }
      ]
    },
    {
      "cell_type": "markdown",
      "source": [
        "## 10. How can you append data to an existing file in Python?"
      ],
      "metadata": {
        "id": "oQ1iNTH4qWB3"
      }
    },
    {
      "cell_type": "code",
      "source": [
        "with open(\"example.txt\", \"a\") as file:\n",
        "    file.write(\"\\n This is my second line.\")\n",
        "\n",
        "print(\"appended to example.txt\")\n"
      ],
      "metadata": {
        "colab": {
          "base_uri": "https://localhost:8080/"
        },
        "id": "Msv2FdcS-EQM",
        "outputId": "06432db3-9093-4240-a97d-af75bf191ac5"
      },
      "execution_count": 18,
      "outputs": [
        {
          "output_type": "stream",
          "name": "stdout",
          "text": [
            "appended to example.txt\n"
          ]
        }
      ]
    },
    {
      "cell_type": "markdown",
      "source": [
        "## 11. Write a program that uses a try-except block to handle an error when attempting to access a dictionary key that doesn't exists."
      ],
      "metadata": {
        "id": "x-8dVbdpqV9t"
      }
    },
    {
      "cell_type": "code",
      "source": [
        "d ={\"Name \":\"Anu\"}\n",
        "print(type(d))\n",
        "try:\n",
        "    print(d[\"age\"])\n",
        "except KeyError as e:\n",
        "    print(\"There is an error : \",e)"
      ],
      "metadata": {
        "colab": {
          "base_uri": "https://localhost:8080/"
        },
        "id": "pILNVmA6-wDS",
        "outputId": "0290a975-32c6-44c3-c92e-7dd2416469e8"
      },
      "execution_count": 20,
      "outputs": [
        {
          "output_type": "stream",
          "name": "stdout",
          "text": [
            "<class 'dict'>\n",
            "There is an error :  'age'\n"
          ]
        }
      ]
    },
    {
      "cell_type": "markdown",
      "source": [
        "## 12. WAP to demonstrate using multiple except blocks to handle different types of exceptions.\n"
      ],
      "metadata": {
        "id": "plyjnrlcqV5L"
      }
    },
    {
      "cell_type": "code",
      "source": [
        "try:\n",
        "    10/0\n",
        "except ZeroDivisionError as e:\n",
        "    print(\"The division is not possible due to error :\",e)\n",
        "except ValueError as e:\n",
        "    print(\"This is value error : \",e)"
      ],
      "metadata": {
        "colab": {
          "base_uri": "https://localhost:8080/"
        },
        "id": "pvV7_Y1i_kuF",
        "outputId": "5c2a0512-0811-4280-94d0-669e6a7bf57e"
      },
      "execution_count": 21,
      "outputs": [
        {
          "output_type": "stream",
          "name": "stdout",
          "text": [
            "The division is not possible due to error : division by zero\n"
          ]
        }
      ]
    },
    {
      "cell_type": "markdown",
      "source": [
        "## 13. How would you check if a file exists before attempting to read in Python?"
      ],
      "metadata": {
        "id": "Oamz2b-RqVoi"
      }
    },
    {
      "cell_type": "code",
      "source": [
        "import os\n",
        "\n",
        "file_path = \"example.txt\"\n",
        "\n",
        "if os.path.exists(file_path):\n",
        "    with open(file_path, \"r\") as file:\n",
        "        content = file.read()\n",
        "        print(\" File content:\")\n",
        "        print(content)\n",
        "else:\n",
        "    print(\" File does not exist.\")\n"
      ],
      "metadata": {
        "colab": {
          "base_uri": "https://localhost:8080/"
        },
        "id": "l8JkQxFl_18S",
        "outputId": "3651e2f6-98f6-405d-91a2-bd34d3a29833"
      },
      "execution_count": 22,
      "outputs": [
        {
          "output_type": "stream",
          "name": "stdout",
          "text": [
            " File content:\n",
            "Hello, this is my first file!\n",
            " This is my second line.\n"
          ]
        }
      ]
    },
    {
      "cell_type": "markdown",
      "source": [
        "## 14. WAP that uses the logging module to log both informational and error messages."
      ],
      "metadata": {
        "id": "ZAoXd4t9qVXk"
      }
    },
    {
      "cell_type": "code",
      "source": [
        "import logging\n",
        "\n",
        "\n",
        "logging.basicConfig(\n",
        "    filename=\"app_log.txt\",\n",
        "    level=logging.DEBUG,\n",
        "    format=\"%(asctime)s - %(levelname)s - %(message)s\"\n",
        ")\n",
        "\n",
        "logging.info(\"This is an informational message.\")\n",
        "logging.error(\"This is an error message.\")\n",
        "\n",
        "print(\"Both INFO and ERROR messages logged to app_log.txt\")\n"
      ],
      "metadata": {
        "colab": {
          "base_uri": "https://localhost:8080/"
        },
        "id": "vMxp0FdRAEtX",
        "outputId": "15539b27-4238-40da-c259-afcffd296c66"
      },
      "execution_count": 23,
      "outputs": [
        {
          "output_type": "stream",
          "name": "stderr",
          "text": [
            "ERROR:root:This is an error message.\n"
          ]
        },
        {
          "output_type": "stream",
          "name": "stdout",
          "text": [
            "Both INFO and ERROR messages logged to app_log.txt\n"
          ]
        }
      ]
    },
    {
      "cell_type": "markdown",
      "source": [
        "## 15. WAP that prints the content of a file and handles the case when the file is empty."
      ],
      "metadata": {
        "id": "zhe8Vu3otGv7"
      }
    },
    {
      "cell_type": "code",
      "source": [
        "\n",
        "file_path = \"example.txt\"\n",
        "\n",
        "try:\n",
        "    with open(file_path, \"r\") as file:\n",
        "        content = file.read()\n",
        "        if content.strip() == \"\":\n",
        "            print(\"The file is empty.\")\n",
        "        else:\n",
        "            print(\"File content:\")\n",
        "            print(content)\n",
        "except FileNotFoundError:\n",
        "    print(\"File not found.\")\n"
      ],
      "metadata": {
        "colab": {
          "base_uri": "https://localhost:8080/"
        },
        "id": "wCaXOMCFARV_",
        "outputId": "f0320780-ca03-469f-e792-1b0d05da9a5c"
      },
      "execution_count": 24,
      "outputs": [
        {
          "output_type": "stream",
          "name": "stdout",
          "text": [
            "File content:\n",
            "Hello, this is my first file!\n",
            " This is my second line.\n"
          ]
        }
      ]
    },
    {
      "cell_type": "markdown",
      "source": [
        "## 16. Demonstrate how to use memory profiling to check the memory usage of a small program."
      ],
      "metadata": {
        "id": "LHvp6bWItGpA"
      }
    },
    {
      "cell_type": "code",
      "source": [
        "!pip install -q memory_profiler"
      ],
      "metadata": {
        "id": "YtgDA65TAnNN"
      },
      "execution_count": 26,
      "outputs": []
    },
    {
      "cell_type": "code",
      "source": [
        "from memory_profiler import profile\n",
        "\n",
        "@profile\n",
        "def my_function():\n",
        "    a = [i for i in range(100000)]\n",
        "    b = sum(a)\n",
        "    return b\n",
        "\n",
        "my_function()\n"
      ],
      "metadata": {
        "colab": {
          "base_uri": "https://localhost:8080/"
        },
        "id": "oArztvkQAe2p",
        "outputId": "744bb0ab-a8ee-4ee3-b1af-6e3f81a1daae"
      },
      "execution_count": 27,
      "outputs": [
        {
          "output_type": "stream",
          "name": "stderr",
          "text": [
            "\n",
            "PYDEV DEBUGGER WARNING:\n",
            "sys.settrace() should not be used when the debugger is being used.\n",
            "This may cause the debugger to stop working correctly.\n",
            "If this is needed, please check: \n",
            "http://pydev.blogspot.com/2007/06/why-cant-pydev-debugger-work-with.html\n",
            "to see how to restore the debug tracing back correctly.\n",
            "Call Location:\n",
            "  File \"/usr/local/lib/python3.11/dist-packages/memory_profiler.py\", line 847, in enable\n",
            "    sys.settrace(self.trace_memory_usage)\n",
            "\n",
            "\n",
            "PYDEV DEBUGGER WARNING:\n",
            "sys.settrace() should not be used when the debugger is being used.\n",
            "This may cause the debugger to stop working correctly.\n",
            "If this is needed, please check: \n",
            "http://pydev.blogspot.com/2007/06/why-cant-pydev-debugger-work-with.html\n",
            "to see how to restore the debug tracing back correctly.\n",
            "Call Location:\n",
            "  File \"/usr/local/lib/python3.11/dist-packages/memory_profiler.py\", line 850, in disable\n",
            "    sys.settrace(self._original_trace_function)\n",
            "\n"
          ]
        },
        {
          "output_type": "stream",
          "name": "stdout",
          "text": [
            "ERROR: Could not find file /tmp/ipython-input-3397567896.py\n"
          ]
        },
        {
          "output_type": "execute_result",
          "data": {
            "text/plain": [
              "4999950000"
            ]
          },
          "metadata": {},
          "execution_count": 27
        }
      ]
    },
    {
      "cell_type": "markdown",
      "source": [
        "## 17. WAP to create and write a list of numbers to a file , one number per line."
      ],
      "metadata": {
        "id": "he9pME5itGhi"
      }
    },
    {
      "cell_type": "code",
      "source": [
        "numbers = [1, 2, 3, 4, 5, 6, 7, 8, 9, 10]\n",
        "\n",
        "with open(\"numbers.txt\", \"w\") as file:\n",
        "    for num in numbers:\n",
        "        file.write(str(num) + \"\\n\")\n",
        "\n",
        "print(\"Numbers written to numbers.txt (one per line)\")\n"
      ],
      "metadata": {
        "colab": {
          "base_uri": "https://localhost:8080/"
        },
        "id": "X_BZI0MXA10E",
        "outputId": "a8816c61-10f8-4bbe-f790-186a2511422b"
      },
      "execution_count": 28,
      "outputs": [
        {
          "output_type": "stream",
          "name": "stdout",
          "text": [
            "Numbers written to numbers.txt (one per line)\n"
          ]
        }
      ]
    },
    {
      "cell_type": "markdown",
      "source": [
        "## 18. How would you implement a basic logging setup that logs to a file with rotatio after 1 MB?"
      ],
      "metadata": {
        "id": "Zeom9vfCtGat"
      }
    },
    {
      "cell_type": "code",
      "source": [
        "import logging\n",
        "from logging.handlers import RotatingFileHandler\n",
        "\n",
        "\n",
        "log_handler = RotatingFileHandler(\n",
        "    filename=\"rotating_log.txt\",\n",
        "    maxBytes=1 * 1024 * 1024,\n",
        "    backupCount=3\n",
        ")\n",
        "\n",
        "\n",
        "logging.basicConfig(\n",
        "    level=logging.DEBUG,\n",
        "    format=\"%(asctime)s - %(levelname)s - %(message)s\",\n",
        "    handlers=[log_handler]\n",
        ")\n",
        "\n",
        "for i in range(10000):\n",
        "    logging.info(f\"Logging line number {i}\")\n"
      ],
      "metadata": {
        "id": "gGhe3uRkBAEk"
      },
      "execution_count": 29,
      "outputs": []
    },
    {
      "cell_type": "markdown",
      "source": [
        "## 19. WAP that handles both index error and key error using try - except block."
      ],
      "metadata": {
        "id": "X7ZUWLmutGUE"
      }
    },
    {
      "cell_type": "code",
      "source": [
        "my_list = [1, 2, 3]\n",
        "my_dict = {\"name\": \"Pragu\"}\n",
        "\n",
        "try:\n",
        "    print(my_list[5])\n",
        "    print(my_dict[\"age\"])\n",
        "except IndexError:\n",
        "    print(\"IndexError: List index is out of range.\")\n",
        "except KeyError:\n",
        "    print(\"KeyError: Key not found in dictionary.\")\n"
      ],
      "metadata": {
        "colab": {
          "base_uri": "https://localhost:8080/"
        },
        "id": "clZxGZUCBPdr",
        "outputId": "d8cd6b1d-b38e-402d-c4a0-97e62b97b7ac"
      },
      "execution_count": 30,
      "outputs": [
        {
          "output_type": "stream",
          "name": "stdout",
          "text": [
            "IndexError: List index is out of range.\n"
          ]
        }
      ]
    },
    {
      "cell_type": "markdown",
      "source": [
        "## 20. How would you open a file and read its content using a context manager in Python?"
      ],
      "metadata": {
        "id": "jSMHXxhBtGNa"
      }
    },
    {
      "cell_type": "code",
      "source": [
        "file_path = \"example.txt\"\n",
        "\n",
        "try:\n",
        "    with open(file_path, \"r\") as file:\n",
        "        content = file.read()\n",
        "        print(\"File content:\")\n",
        "        print(content)\n",
        "except FileNotFoundError:\n",
        "    print(\" File not found.\")\n"
      ],
      "metadata": {
        "colab": {
          "base_uri": "https://localhost:8080/"
        },
        "id": "qF2R8Xf3Bcww",
        "outputId": "f496de1f-71b9-401a-c089-3de81823cfa0"
      },
      "execution_count": 31,
      "outputs": [
        {
          "output_type": "stream",
          "name": "stdout",
          "text": [
            "File content:\n",
            "Hello, this is my first file!\n",
            " This is my second line.\n"
          ]
        }
      ]
    },
    {
      "cell_type": "markdown",
      "source": [
        "## 21. WAP that reads a file and prints the number of occurences of a specific word."
      ],
      "metadata": {
        "id": "GvOAVRcEtGGR"
      }
    },
    {
      "cell_type": "code",
      "source": [
        "file_path = \"example.txt\"\n",
        "search_word = \"Hello\"\n",
        "\n",
        "try:\n",
        "    with open(file_path, \"r\") as file:\n",
        "        content = file.read().lower()\n",
        "        word_count = content.count(search_word.lower())\n",
        "        print(f\"The word '{search_word}' appears {word_count} times in the file.\")\n",
        "except FileNotFoundError:\n",
        "    print(\"File not found.\")\n"
      ],
      "metadata": {
        "colab": {
          "base_uri": "https://localhost:8080/"
        },
        "id": "wITWTj6JBkOs",
        "outputId": "8f6283b2-2da2-4e93-bfda-cd6df96a9239"
      },
      "execution_count": 33,
      "outputs": [
        {
          "output_type": "stream",
          "name": "stdout",
          "text": [
            "The word 'Hello' appears 1 times in the file.\n"
          ]
        }
      ]
    },
    {
      "cell_type": "markdown",
      "source": [
        "## 22. How can you check if a file is empty before attempting to read its contents?"
      ],
      "metadata": {
        "id": "jlegn_eWtF-R"
      }
    },
    {
      "cell_type": "code",
      "source": [
        "import os\n",
        "\n",
        "file_path = \"example.txt\"\n",
        "\n",
        "\n",
        "if os.path.exists(file_path):\n",
        "    if os.path.getsize(file_path) == 0:\n",
        "        print(\"The file is empty.\")\n",
        "    else:\n",
        "        with open(file_path, \"r\") as file:\n",
        "            content = file.read()\n",
        "            print(\"File content:\")\n",
        "            print(content)\n",
        "else:\n",
        "    print(\"File not found.\")\n"
      ],
      "metadata": {
        "colab": {
          "base_uri": "https://localhost:8080/"
        },
        "id": "Vx1er7a3B2vA",
        "outputId": "af6fb259-c03a-4ee7-c2fd-ec6c22aa61f1"
      },
      "execution_count": 34,
      "outputs": [
        {
          "output_type": "stream",
          "name": "stdout",
          "text": [
            "File content:\n",
            "Hello, this is my first file!\n",
            " This is my second line.\n"
          ]
        }
      ]
    },
    {
      "cell_type": "markdown",
      "source": [
        "## 23. WAP that writes to a log file when an error occurs during file handling?"
      ],
      "metadata": {
        "id": "eB7_HUxltF3w"
      }
    },
    {
      "cell_type": "code",
      "execution_count": 35,
      "metadata": {
        "colab": {
          "base_uri": "https://localhost:8080/"
        },
        "id": "7dyr4MGFnqAv",
        "outputId": "172fd50a-4fb8-4820-e29e-02c9b77f0e74"
      },
      "outputs": [
        {
          "output_type": "stream",
          "name": "stderr",
          "text": [
            "ERROR:root:File not found error: [Errno 2] No such file or directory: 'non_existent_file.txt'\n"
          ]
        },
        {
          "output_type": "stream",
          "name": "stdout",
          "text": [
            " Error occurred. Check file_error_log.txt for details.\n"
          ]
        }
      ],
      "source": [
        "import logging\n",
        "\n",
        "logging.basicConfig(\n",
        "    filename=\"file_error_log.txt\",\n",
        "    level=logging.ERROR,\n",
        "    format=\"%(asctime)s - %(levelname)s - %(message)s\"\n",
        ")\n",
        "\n",
        "file_path = \"non_existent_file.txt\"\n",
        "\n",
        "try:\n",
        "    with open(file_path, \"r\") as file:\n",
        "        content = file.read()\n",
        "        print(content)\n",
        "except FileNotFoundError as e:\n",
        "    logging.error(f\"File not found error: {e}\")\n",
        "    print(\" Error occurred. Check file_error_log.txt for details.\")\n",
        "\n"
      ]
    },
    {
      "cell_type": "code",
      "source": [],
      "metadata": {
        "id": "WFpk2iQKCDGt"
      },
      "execution_count": null,
      "outputs": []
    }
  ]
}