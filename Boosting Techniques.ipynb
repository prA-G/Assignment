{
 "cells": [
  {
   "cell_type": "markdown",
   "id": "927f53c1",
   "metadata": {},
   "source": [
    "# *BOOSTING TECHNIQUES ASSIGNMENT*"
   ]
  },
  {
   "cell_type": "markdown",
   "id": "5d5a6edd",
   "metadata": {},
   "source": [
    "## 1.  What is Boosting in Machine Learning? Explain how it improves weak learners."
   ]
  },
  {
   "cell_type": "markdown",
   "id": "d9e30093",
   "metadata": {},
   "source": [
    "Boosting is an ensemble technique that builds a strong model by combining many weak learners sequentially. Each new learner focuses on the mistakes of the previous ensemble (hard examples). By giving more weight to misclassified examples (or fitting residuals), the ensemble reduces bias and produces a much stronger predictor than individual weak learners."
   ]
  },
  {
   "cell_type": "markdown",
   "id": "678511db",
   "metadata": {},
   "source": [
    "## 2. What is the difference between AdaBoost and Gradient Boosting in terms of how models are trained? "
   ]
  },
  {
   "cell_type": "markdown",
   "id": "6427025b",
   "metadata": {},
   "source": [
    "- **AdaBoost**: Reweights training samples after each weak learner. Mistakes get higher weights so next learner focuses on them. Combines learners by weighted voting (classification) using weights derived from learners’ errors. Loss perspective: exponential loss. Typical base learner: decision stump.\n",
    "\n",
    "- **Gradient Boosting**: Each new learner is trained to fit the negative gradient (residuals) of the loss function of the ensemble — think: it fits what's left to predict. Uses additive modeling with a learning rate and flexible loss functions (MSE, logistic, etc.). Typical base learner: shallow decision tree."
   ]
  },
  {
   "cell_type": "markdown",
   "id": "ccf7fa72",
   "metadata": {},
   "source": [
    "## 3. How does regularization help in XGBoost?"
   ]
  },
  {
   "cell_type": "markdown",
   "id": "0dd0c7b7",
   "metadata": {},
   "source": [
    "XGBoost includes explicit regularization in its objective: L1 (alpha) and L2 (lambda) penalties on leaf weights, plus tree-structure penalties like gamma (minimum loss reduction to make a split). Other controls: `max_depth`, `subsample`, `colsample_bytree`, and `learning_rate`. Regularization limits leaf weight magnitude and tree complexity, reducing overfitting and improving generalization."
   ]
  },
  {
   "cell_type": "markdown",
   "id": "293bb4ed",
   "metadata": {},
   "source": [
    "## 4. Why is CatBoost considered efficient for handling categorical data? "
   ]
  },
  {
   "cell_type": "markdown",
   "id": "48ee1d3f",
   "metadata": {},
   "source": [
    "CatBoost uses ordered target statistics and permutation-driven encodings that avoid target leakage, plus efficient native handling of categorical features (no naive one-hot explosion). It builds symmetric (oblivious) trees that are fast and stable. Result: better accuracy on tabular data with many categorical features, fewer preprocessing steps, and less overfitting from naive encodings."
   ]
  },
  {
   "cell_type": "markdown",
   "id": "c06c3d11",
   "metadata": {},
   "source": [
    "## 5. What are some real-world applications where boosting techniques are preferred over bagging methods?"
   ]
  },
  {
   "cell_type": "markdown",
   "id": "66734c59",
   "metadata": {},
   "source": [
    "- Credit scoring / loan default prediction (tabular, heterogeneous features)\n",
    "- Fraud detection (imbalanced, complex interactions)\n",
    "- Ad click-through-rate prediction / ranking problems\n",
    "- Churn prediction, customer lifetime value modeling\n",
    "- Medical diagnostics with structured data\n",
    "\n",
    "Why boosting: excels on tabular data, captures complex feature interactions, often yields higher predictive accuracy than bagging (like random forest), and can handle imbalance/weighting more directly."
   ]
  },
  {
   "cell_type": "markdown",
   "id": "8553a7c3",
   "metadata": {},
   "source": [
    "## 6. Write a Python program to: \n",
    "● Train an AdaBoost Classifier on the Breast Cancer dataset \n",
    "● Print the model accuracy"
   ]
  },
  {
   "cell_type": "code",
   "execution_count": 1,
   "id": "fd827ab2",
   "metadata": {},
   "outputs": [
    {
     "name": "stdout",
     "output_type": "stream",
     "text": [
      "AdaBoost accuracy: 0.9561\n"
     ]
    }
   ],
   "source": [
    "from sklearn.datasets import load_breast_cancer\n",
    "from sklearn.ensemble import AdaBoostClassifier\n",
    "from sklearn.model_selection import train_test_split\n",
    "from sklearn.metrics import accuracy_score\n",
    "\n",
    "# Load data\n",
    "X, y = load_breast_cancer(return_X_y=True)\n",
    "\n",
    "# Train/test split\n",
    "X_train, X_test, y_train, y_test = train_test_split(\n",
    "    X, y, test_size=0.2, random_state=42, stratify=y\n",
    ")\n",
    "\n",
    "# Model\n",
    "model = AdaBoostClassifier(n_estimators=50, random_state=42)\n",
    "model.fit(X_train, y_train)\n",
    "\n",
    "# Predict & evaluate\n",
    "y_pred = model.predict(X_test)\n",
    "acc = accuracy_score(y_test, y_pred)\n",
    "print(f\"AdaBoost accuracy: {acc:.4f}\")\n"
   ]
  },
  {
   "cell_type": "markdown",
   "id": "9bae784a",
   "metadata": {},
   "source": [
    "## 7. Write a Python program to: \n",
    "● Train a Gradient Boosting Regressor on the California Housing dataset \n",
    "● Evaluate performance using R-squared score "
   ]
  },
  {
   "cell_type": "code",
   "execution_count": 2,
   "id": "12b26caf",
   "metadata": {},
   "outputs": [
    {
     "name": "stdout",
     "output_type": "stream",
     "text": [
      "GradientBoosting R^2: 0.7756\n"
     ]
    }
   ],
   "source": [
    "from sklearn.datasets import fetch_california_housing\n",
    "from sklearn.ensemble import GradientBoostingRegressor\n",
    "from sklearn.model_selection import train_test_split\n",
    "from sklearn.metrics import r2_score\n",
    "\n",
    "# Load data\n",
    "data = fetch_california_housing()\n",
    "X, y = data.data, data.target\n",
    "\n",
    "# Split\n",
    "X_train, X_test, y_train, y_test = train_test_split(\n",
    "    X, y, test_size=0.2, random_state=42\n",
    ")\n",
    "\n",
    "# Model\n",
    "gbr = GradientBoostingRegressor(n_estimators=100, learning_rate=0.1, random_state=42)\n",
    "gbr.fit(X_train, y_train)\n",
    "\n",
    "# Evaluate\n",
    "y_pred = gbr.predict(X_test)\n",
    "r2 = r2_score(y_test, y_pred)\n",
    "print(f\"GradientBoosting R^2: {r2:.4f}\")\n"
   ]
  },
  {
   "cell_type": "markdown",
   "id": "209ed382",
   "metadata": {},
   "source": [
    "## 8. Write a Python program to: \n",
    "- Train an XGBoost Classifier on the Breast Cancer dataset \n",
    "- Tune the learning rate using GridSearchCV \n",
    "- Print the best parameters and accuracy "
   ]
  },
  {
   "cell_type": "code",
   "execution_count": null,
   "id": "23cfc1f5",
   "metadata": {},
   "outputs": [],
   "source": [
    "!pip install xgboost\n",
    "\n",
    "import warnings\n",
    "warnings.filterwarnings('ignore')\n"
   ]
  },
  {
   "cell_type": "code",
   "execution_count": 6,
   "id": "a93cf869",
   "metadata": {},
   "outputs": [
    {
     "name": "stdout",
     "output_type": "stream",
     "text": [
      "Best params: {'learning_rate': 0.1}\n",
      "Test accuracy with best params: 0.9474\n"
     ]
    }
   ],
   "source": [
    "from sklearn.datasets import load_breast_cancer\n",
    "from sklearn.model_selection import train_test_split, GridSearchCV\n",
    "from sklearn.metrics import accuracy_score\n",
    "from xgboost import XGBClassifier\n",
    "\n",
    "# Load\n",
    "X, y = load_breast_cancer(return_X_y=True)\n",
    "X_train, X_test, y_train, y_test = train_test_split(\n",
    "    X, y, test_size=0.2, random_state=42, stratify=y\n",
    ")\n",
    "\n",
    "# Model + grid\n",
    "xgb = XGBClassifier(use_label_encoder=False, eval_metric='logloss', random_state=42, verbosity=0)\n",
    "param_grid = {'learning_rate': [0.01, 0.05, 0.1, 0.2]}\n",
    "grid = GridSearchCV(xgb, param_grid, cv=5, scoring='accuracy', n_jobs=-1)\n",
    "grid.fit(X_train, y_train)\n",
    "\n",
    "best = grid.best_estimator_\n",
    "y_pred = best.predict(X_test)\n",
    "acc = accuracy_score(y_test, y_pred)\n",
    "\n",
    "print(\"Best params:\", grid.best_params_)\n",
    "print(f\"Test accuracy with best params: {acc:.4f}\")\n"
   ]
  },
  {
   "cell_type": "markdown",
   "id": "1d263ad5",
   "metadata": {},
   "source": [
    "## 9. Write a Python program to: \n",
    "- Train a CatBoost Classifier \n",
    "- Plot the confusion matrix using seaborn"
   ]
  },
  {
   "cell_type": "code",
   "execution_count": null,
   "id": "a3d05b06",
   "metadata": {},
   "outputs": [],
   "source": [
    "!pip install catboost"
   ]
  },
  {
   "cell_type": "code",
   "execution_count": 9,
   "id": "ef4ab205",
   "metadata": {},
   "outputs": [
    {
     "data": {
      "image/png": "[encoded data removed]",
      "text/plain": [
       "<Figure size 500x400 with 2 Axes>"
      ]
     },
     "metadata": {},
     "output_type": "display_data"
    }
   ],
   "source": [
    "from sklearn.datasets import load_breast_cancer\n",
    "from sklearn.model_selection import train_test_split\n",
    "from catboost import CatBoostClassifier\n",
    "from sklearn.metrics import confusion_matrix\n",
    "import seaborn as sns\n",
    "import matplotlib.pyplot as plt\n",
    "\n",
    "# Load\n",
    "X, y = load_breast_cancer(return_X_y=True)\n",
    "X_train, X_test, y_train, y_test = train_test_split(\n",
    "    X, y, test_size=0.2, random_state=42, stratify=y\n",
    ")\n",
    "\n",
    "# Train\n",
    "clf = CatBoostClassifier(iterations=200, learning_rate=0.1, verbose=0, random_state=42)\n",
    "clf.fit(X_train, y_train)\n",
    "\n",
    "# Predict & plot confusion matrix\n",
    "y_pred = clf.predict(X_test)\n",
    "cm = confusion_matrix(y_test, y_pred)\n",
    "\n",
    "plt.figure(figsize=(5,4))\n",
    "sns.heatmap(cm, annot=True, fmt='d', cmap='Blues')\n",
    "plt.xlabel(\"Predicted\")\n",
    "plt.ylabel(\"Actual\")\n",
    "plt.title(\"Confusion Matrix - CatBoost\")\n",
    "plt.show()\n"
   ]
  },
  {
   "cell_type": "markdown",
   "id": "e531ff67",
   "metadata": {},
   "source": [
    "## 10.  You're working for a FinTech company trying to predict loan default using \n",
    "customer demographics and transaction behavior. \n",
    "The dataset is imbalanced, contains missing values, and has both numeric and \n",
    "categorical features. \n",
    "Describe your step-by-step data science pipeline using boosting techniques: \n",
    "- Data preprocessing & handling missing/categorical values \n",
    "- Choice between AdaBoost, XGBoost, or CatBoost \n",
    "- Hyperparameter tuning strategy \n",
    "- Evaluation metrics you'd choose and why \n",
    "- How the business would benefit from your model"
   ]
  },
  {
   "cell_type": "markdown",
   "id": "608d5abc",
   "metadata": {},
   "source": [
    "- **Preprocessing:**\n",
    "    -   Fill missing values (median for numbers, mode for categorical).\n",
    "    - Encode categorical vars (CatBoost handles directly).\n",
    "    - Handle imbalance using scale_pos_weight or resampling.\n",
    "\n",
    "- **Model:**\n",
    "    - Use CatBoost/XGBoost for tabular data.\n",
    "    - Tune hyperparams with GridSearchCV or RandomizedSearchCV.\n",
    "\n",
    "- **Evaluation Metrics:**\n",
    "    - Use ROC-AUC, PR-AUC, and Recall for imbalanced data.\n",
    "    - Check confusion matrix for business insight.\n",
    "\n",
    "- **Business Benefit:**\n",
    "    - Early defaulter detection → reduced loan losses, better risk control."
   ]
  },
  {
   "cell_type": "code",
   "execution_count": 11,
   "id": "6770fc0a",
   "metadata": {},
   "outputs": [
    {
     "name": "stdout",
     "output_type": "stream",
     "text": [
      "ROC-AUC: 0.998329435349148\n"
     ]
    }
   ],
   "source": [
    "from catboost import CatBoostClassifier\n",
    "from sklearn.model_selection import train_test_split\n",
    "from sklearn.metrics import roc_auc_score\n",
    "\n",
    "X_train, X_test, y_train, y_test = train_test_split(X, y, test_size=0.2)\n",
    "model = CatBoostClassifier(iterations=200, learning_rate=0.1, verbose=0)\n",
    "model.fit(X_train, y_train)\n",
    "pred = model.predict_proba(X_test)[:,1]\n",
    "print(\"ROC-AUC:\", roc_auc_score(y_test, pred))\n"
   ]
  }
 ],
 "metadata": {
  "kernelspec": {
   "display_name": "base",
   "language": "python",
   "name": "python3"
  },
  "language_info": {
   "codemirror_mode": {
    "name": "ipython",
    "version": 3
   },
   "file_extension": ".py",
   "mimetype": "text/x-python",
   "name": "python",
   "nbconvert_exporter": "python",
   "pygments_lexer": "ipython3",
   "version": "3.13.5"
  }
 },
 "nbformat": 4,
 "nbformat_minor": 5
}
