{
 "cells": [
  {
   "cell_type": "markdown",
   "id": "a6c0238d",
   "metadata": {},
   "source": [
    "## 1.  What is Logistic Regression, and how does it differ from Linear Regression? "
   ]
  },
  {
   "cell_type": "markdown",
   "id": "7b0854be",
   "metadata": {},
   "source": [
    "Logistic Regression is a supervised machine learning algorithm used for classification problems (like predicting Yes/No, 0/1, True/False).\n",
    "\n",
    "It predicts the probability that an input belongs to a certain class.\n",
    "\n",
    "For example:\n",
    "- Will a student pass or fail? (Yes/No)\n",
    "- Will an email be spam or not spam? (1/0)\n",
    "\n",
    "The output of Logistic Regression is always between 0 and 1 because it uses the Sigmoid function to map predictions into probability form."
   ]
  },
  {
   "cell_type": "markdown",
   "id": "e20096bf",
   "metadata": {},
   "source": [
    "## 2.  Explain the role of the Sigmoid function in Logistic Regression."
   ]
  },
  {
   "cell_type": "markdown",
   "id": "c106ffe4",
   "metadata": {},
   "source": [
    "The **Sigmoid function** is the heart of Logistic Regression.\n",
    "\n",
    "It converts any real-valued number (from -∞ to +∞) into a value between **0 and 1**.  \n",
    "This makes it perfect for representing **probabilities**.\n",
    "\n",
    "### Role in Logistic Regression\n",
    "\n",
    "1. **Converts Linear Output to Probability:**  \n",
    "   The linear equation \\( b_0 + b_1x \\) can give any value.  \n",
    "   The sigmoid maps it into a probability between 0 and 1.\n",
    "\n",
    "2. **Helps in Classification:**  \n",
    "   - If probability ≥ 0.5 → class 1 (Yes/Positive)  \n",
    "   - If probability < 0.5 → class 0 (No/Negative)\n",
    "\n",
    "3. **Smooth Transition:**  \n",
    "   The sigmoid curve is S-shaped, which means small changes around 0 \n",
    "   create noticeable probability changes — ideal for decision boundaries."
   ]
  },
  {
   "cell_type": "markdown",
   "id": "d87de623",
   "metadata": {},
   "source": [
    "## 3. What is Regularization in Logistic Regression and why is it needed?"
   ]
  },
  {
   "cell_type": "markdown",
   "id": "e19f027f",
   "metadata": {},
   "source": [
    "**Regularization** is a technique used to **reduce overfitting** in Logistic Regression (and other models).\n",
    "\n",
    "When a model learns **too well** from training data, it may start memorizing noise or random patterns.  \n",
    "This causes **poor performance on new/unseen data** — that’s called **overfitting**.\n",
    "\n",
    "Regularization helps control this by adding a **penalty term** to the cost function,  \n",
    "which discourages the model from having very large coefficient values.\n",
    "\n",
    "- It is needed because:\n",
    "    - Prevents **overfitting**\n",
    "    - Improves **generalization** on test data\n",
    "    - Keeps the model **simpler and more stable**\n",
    "    - Helps handle **multicollinearity** (when features are correlated)"
   ]
  },
  {
   "cell_type": "markdown",
   "id": "39d5da61",
   "metadata": {},
   "source": [
    "## 4. What are some common evaluation metrics for classification models, and why are they important? "
   ]
  },
  {
   "cell_type": "markdown",
   "id": "be2a384e",
   "metadata": {},
   "source": [
    "After training a classification model (like Logistic Regression), we need to measure **how well it performs** — this is done using **evaluation metrics**.\n",
    "\n",
    "These metrics help us understand if our model is predicting correctly, and whether it is biased toward a certain class or not.\n",
    "\n",
    "- They are important because:\n",
    "    - They give a **complete picture** of model performance.  \n",
    "    - Help choose the **right model** for real-world tasks.  \n",
    "    - Detect if a model is **biased** (e.g., always predicting one class).  \n",
    "    - Useful in **medical, fraud detection, or spam filtering** where accuracy alone is not enough.\n"
   ]
  },
  {
   "cell_type": "markdown",
   "id": "091e5574",
   "metadata": {},
   "source": [
    "## 5.  Write a Python program that loads a CSV file into a Pandas DataFrame, splits into train/test sets, trains a Logistic Regression model, and prints its accuracy. \n",
    "(Use Dataset from sklearn package)"
   ]
  },
  {
   "cell_type": "code",
   "execution_count": null,
   "id": "122cbbfa",
   "metadata": {},
   "outputs": [],
   "source": [
    "pip install scikit-learn\n"
   ]
  },
  {
   "cell_type": "code",
   "execution_count": 3,
   "id": "b6f5f481",
   "metadata": {},
   "outputs": [
    {
     "name": "stdout",
     "output_type": "stream",
     "text": [
      "Sample data from CSV-like DataFrame:\n",
      "   sepal length (cm)  sepal width (cm)  petal length (cm)  petal width (cm)  \\\n",
      "0                5.1               3.5                1.4               0.2   \n",
      "1                4.9               3.0                1.4               0.2   \n",
      "2                4.7               3.2                1.3               0.2   \n",
      "3                4.6               3.1                1.5               0.2   \n",
      "4                5.0               3.6                1.4               0.2   \n",
      "\n",
      "   target  \n",
      "0       0  \n",
      "1       0  \n",
      "2       0  \n",
      "3       0  \n",
      "4       0  \n",
      "\n",
      "Model Accuracy on Test Data: 1.0\n"
     ]
    }
   ],
   "source": [
    "import warnings\n",
    "warnings.filterwarnings('ignore')\n",
    "\n",
    "\n",
    "import pandas as pd\n",
    "from sklearn.model_selection import train_test_split\n",
    "from sklearn.linear_model import LogisticRegression\n",
    "from sklearn.datasets import load_iris\n",
    "from sklearn.metrics import accuracy_score\n",
    "\n",
    "\n",
    "\n",
    "iris = load_iris()\n",
    "\n",
    "df = pd.DataFrame(iris.data, columns=iris.feature_names)\n",
    "df['target'] = iris.target\n",
    "\n",
    "print(\"Sample data from CSV-like DataFrame:\")\n",
    "print(df.head())\n",
    "\n",
    "X = df.drop('target', axis=1)\n",
    "y = df['target']\n",
    "\n",
    "X_train, X_test, y_train, y_test = train_test_split(X, y, test_size=0.2, random_state=42)\n",
    "\n",
    "\n",
    "model = LogisticRegression(max_iter=200, solver='lbfgs', multi_class='auto')\n",
    "model.fit(X_train, y_train)\n",
    "\n",
    "y_pred = model.predict(X_test)\n",
    "accuracy = accuracy_score(y_test, y_pred)\n",
    "\n",
    "print(\"\\nModel Accuracy on Test Data:\", round(accuracy, 3))\n"
   ]
  },
  {
   "cell_type": "markdown",
   "id": "7bbf3aa0",
   "metadata": {},
   "source": [
    "## 6. Write a Python program to train a Logistic Regression model using L2 regularization (Ridge) and print the model coefficients and accuracy. \n",
    "(Use Dataset from sklearn package) \n",
    "(Include your Python code and output in the code box below.)"
   ]
  },
  {
   "cell_type": "code",
   "execution_count": 4,
   "id": "91689e42",
   "metadata": {},
   "outputs": [
    {
     "name": "stdout",
     "output_type": "stream",
     "text": [
      "Model Coefficients (Weights):\n",
      "[[-0.39346234  0.96250944 -2.3751269  -0.99874615]\n",
      " [ 0.50843644 -0.25482245 -0.2130109  -0.77574713]\n",
      " [-0.11497411 -0.70768699  2.5881378   1.77449329]]\n",
      "\n",
      "Model Intercept:\n",
      "[  9.00890328   1.86898996 -10.87789324]\n",
      "\n",
      "Accuracy of Logistic Regression Model: 1.0\n"
     ]
    }
   ],
   "source": [
    "\n",
    "import warnings\n",
    "warnings.filterwarnings('ignore')\n",
    "\n",
    "import pandas as pd\n",
    "from sklearn.model_selection import train_test_split\n",
    "from sklearn.linear_model import LogisticRegression\n",
    "from sklearn.datasets import load_iris\n",
    "from sklearn.metrics import accuracy_score\n",
    "\n",
    "iris = load_iris()\n",
    "X = iris.data\n",
    "y = iris.target\n",
    "\n",
    "X_train, X_test, y_train, y_test = train_test_split(\n",
    "    X, y, test_size=0.2, random_state=42\n",
    ")\n",
    "\n",
    "model = LogisticRegression(penalty='l2', solver='lbfgs', max_iter=200)\n",
    "model.fit(X_train, y_train)\n",
    "\n",
    "y_pred = model.predict(X_test)\n",
    "accuracy = accuracy_score(y_test, y_pred)\n",
    "\n",
    "print(\"Model Coefficients (Weights):\")\n",
    "print(model.coef_)\n",
    "print(\"\\nModel Intercept:\")\n",
    "print(model.intercept_)\n",
    "print(\"\\nAccuracy of Logistic Regression Model:\", round(accuracy, 3))\n"
   ]
  },
  {
   "cell_type": "markdown",
   "id": "5f91d63c",
   "metadata": {},
   "source": [
    "## 7. Write a Python program to train a Logistic Regression model for multiclass classification using multi_class='ovr' and print the classification report. \n",
    "(Use Dataset from sklearn package) \n",
    "(Include your Python code and output in the code box below.)"
   ]
  },
  {
   "cell_type": "code",
   "execution_count": 5,
   "id": "c5951da0",
   "metadata": {},
   "outputs": [
    {
     "name": "stdout",
     "output_type": "stream",
     "text": [
      "Classification Report (OvR Logistic Regression):\n",
      "\n",
      "              precision    recall  f1-score   support\n",
      "\n",
      "           0       1.00      0.93      0.96        14\n",
      "           1       0.93      1.00      0.97        14\n",
      "           2       1.00      1.00      1.00         8\n",
      "\n",
      "    accuracy                           0.97        36\n",
      "   macro avg       0.98      0.98      0.98        36\n",
      "weighted avg       0.97      0.97      0.97        36\n",
      "\n"
     ]
    }
   ],
   "source": [
    "\n",
    "import warnings\n",
    "warnings.filterwarnings('ignore')\n",
    "\n",
    "import pandas as pd\n",
    "from sklearn.model_selection import train_test_split\n",
    "from sklearn.linear_model import LogisticRegression\n",
    "from sklearn.datasets import load_wine   # multiclass dataset\n",
    "from sklearn.metrics import classification_report\n",
    "\n",
    "wine = load_wine()\n",
    "X = wine.data\n",
    "y = wine.target\n",
    "\n",
    "X_train, X_test, y_train, y_test = train_test_split(\n",
    "    X, y, test_size=0.2, random_state=42\n",
    ")\n",
    "\n",
    "model = LogisticRegression(multi_class='ovr', solver='liblinear', max_iter=200)\n",
    "model.fit(X_train, y_train)\n",
    "\n",
    "y_pred = model.predict(X_test)\n",
    "\n",
    "print(\"Classification Report (OvR Logistic Regression):\\n\")\n",
    "print(classification_report(y_test, y_pred))\n"
   ]
  },
  {
   "cell_type": "markdown",
   "id": "ce7d9983",
   "metadata": {},
   "source": [
    "## 8.  Write a Python program to apply GridSearchCV to tune C and penalty hyperparameters for Logistic Regression and print the best parameters and validation accuracy. \n",
    "(Use Dataset from sklearn package) \n",
    "(Include your Python code and output in the code box below.)"
   ]
  },
  {
   "cell_type": "code",
   "execution_count": 6,
   "id": "e0947780",
   "metadata": {},
   "outputs": [
    {
     "name": "stdout",
     "output_type": "stream",
     "text": [
      "Best Parameters from GridSearchCV:\n",
      "{'C': 10, 'penalty': 'l1', 'solver': 'liblinear'}\n",
      "\n",
      "Best Cross-Validation Score: 0.958\n",
      "\n",
      "Validation Accuracy on Test Data: 1.0\n"
     ]
    }
   ],
   "source": [
    "import warnings\n",
    "warnings.filterwarnings('ignore')\n",
    "\n",
    "import pandas as pd\n",
    "from sklearn.datasets import load_iris\n",
    "from sklearn.model_selection import train_test_split, GridSearchCV\n",
    "from sklearn.linear_model import LogisticRegression\n",
    "from sklearn.metrics import accuracy_score\n",
    "\n",
    "iris = load_iris()\n",
    "X = iris.data\n",
    "y = iris.target\n",
    "\n",
    "X_train, X_test, y_train, y_test = train_test_split(\n",
    "    X, y, test_size=0.2, random_state=42\n",
    ")\n",
    "\n",
    "log_reg = LogisticRegression(max_iter=200)\n",
    "\n",
    "param_grid = {\n",
    "    'C': [0.01, 0.1, 1, 10],            # Regularization strength\n",
    "    'penalty': ['l1', 'l2'],           # Regularization type\n",
    "    'solver': ['liblinear']            # Supports both l1 and l2\n",
    "}\n",
    "\n",
    "grid = GridSearchCV(log_reg, param_grid, cv=5, scoring='accuracy')\n",
    "grid.fit(X_train, y_train)\n",
    "\n",
    "y_pred = grid.predict(X_test)\n",
    "accuracy = accuracy_score(y_test, y_pred)\n",
    "\n",
    "# Output\n",
    "print(\"Best Parameters from GridSearchCV:\")\n",
    "print(grid.best_params_)\n",
    "print(\"\\nBest Cross-Validation Score:\", round(grid.best_score_, 3))\n",
    "print(\"\\nValidation Accuracy on Test Data:\", round(accuracy, 3))\n"
   ]
  },
  {
   "cell_type": "markdown",
   "id": "ebfc5d5a",
   "metadata": {},
   "source": [
    "## 9. Write a Python program to standardize the features before training Logistic Regression and compare the model's accuracy with and without scaling. \n",
    "(Use Dataset from sklearn package) \n",
    "(Include your Python code and output in the code box below.)"
   ]
  },
  {
   "cell_type": "code",
   "execution_count": 7,
   "id": "c5bf7b37",
   "metadata": {},
   "outputs": [
    {
     "name": "stdout",
     "output_type": "stream",
     "text": [
      "Accuracy WITHOUT Scaling : 0.972\n",
      "Accuracy WITH Standard Scaling : 1.0\n"
     ]
    }
   ],
   "source": [
    "import warnings\n",
    "warnings.filterwarnings('ignore')\n",
    "\n",
    "import pandas as pd\n",
    "from sklearn.datasets import load_wine\n",
    "from sklearn.model_selection import train_test_split\n",
    "from sklearn.preprocessing import StandardScaler\n",
    "from sklearn.linear_model import LogisticRegression\n",
    "from sklearn.metrics import accuracy_score\n",
    "\n",
    "wine = load_wine()\n",
    "X = wine.data\n",
    "y = wine.target\n",
    "\n",
    "X_train, X_test, y_train, y_test = train_test_split(\n",
    "    X, y, test_size=0.2, random_state=42\n",
    ")\n",
    "\n",
    "model_no_scale = LogisticRegression(max_iter=200)\n",
    "model_no_scale.fit(X_train, y_train)\n",
    "pred_no_scale = model_no_scale.predict(X_test)\n",
    "acc_no_scale = accuracy_score(y_test, pred_no_scale)\n",
    "\n",
    "scaler = StandardScaler()\n",
    "X_train_scaled = scaler.fit_transform(X_train)\n",
    "X_test_scaled = scaler.transform(X_test)\n",
    "\n",
    "model_scale = LogisticRegression(max_iter=200)\n",
    "model_scale.fit(X_train_scaled, y_train)\n",
    "pred_scale = model_scale.predict(X_test_scaled)\n",
    "acc_scale = accuracy_score(y_test, pred_scale)\n",
    "\n",
    "# Output\n",
    "print(\"Accuracy WITHOUT Scaling :\", round(acc_no_scale, 3))\n",
    "print(\"Accuracy WITH Standard Scaling :\", round(acc_scale, 3))\n"
   ]
  },
  {
   "cell_type": "markdown",
   "id": "5aa48693",
   "metadata": {},
   "source": [
    "## 10.  Imagine you are working at an e-commerce company that wants to predict which customers will respond to a marketing campaign. Given an imbalanced dataset (only 5% of customers respond), describe the approach you’d take to build a Logistic Regression model — including data handling, feature scaling, balancing classes, hyperparameter tuning, and evaluating the model for this real-world business use case."
   ]
  },
  {
   "cell_type": "markdown",
   "id": "2f00eea6",
   "metadata": {},
   "source": [
    "### Logistic Regression for Imbalanced Marketing Data\n",
    "\n",
    "We want to predict which customers will respond to a campaign. The dataset is highly imbalanced (5% responders).\n",
    "\n",
    "**Steps:**\n",
    "\n",
    "1. **Data Preprocessing:** Handle missing values, encode categorical variables, and remove outliers.\n",
    "2. **Feature Scaling:** Standardize numeric features using StandardScaler.\n",
    "3. **Handle Imbalance:** Use `class_weight='balanced'` or oversample minority class with SMOTE.\n",
    "4. **Train-Test Split:** Use stratified splitting to keep class ratio same in train and test sets.\n",
    "5. **Model Training:** Train Logistic Regression with L2 regularization.\n",
    "6. **Hyperparameter Tuning:** Use GridSearchCV to tune `C`, `penalty`, and `class_weight`.\n",
    "7. **Evaluation:** Use Precision, Recall, F1-score, and ROC-AUC instead of accuracy. Focus on Recall to catch more responders.\n",
    "8. **Business Use:** Rank customers by probability, adjust threshold to improve campaign efficiency, and target high-probability responders.\n",
    "\n",
    "**Conclusion:**  \n",
    "This approach ensures the model works well with imbalanced data and helps the business target the right customers effectively.\n"
   ]
  }
 ],
 "metadata": {
  "kernelspec": {
   "display_name": "base",
   "language": "python",
   "name": "python3"
  },
  "language_info": {
   "codemirror_mode": {
    "name": "ipython",
    "version": 3
   },
   "file_extension": ".py",
   "mimetype": "text/x-python",
   "name": "python",
   "nbconvert_exporter": "python",
   "pygments_lexer": "ipython3",
   "version": "3.13.5"
  }
 },
 "nbformat": 4,
 "nbformat_minor": 5
}
