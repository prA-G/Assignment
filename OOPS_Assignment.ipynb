{
 "cells": [
  {
   "cell_type": "markdown",
   "id": "26e12e1c",
   "metadata": {},
   "source": [
    "# Python OOPs Questions"
   ]
  },
  {
   "cell_type": "markdown",
   "id": "a03df83f",
   "metadata": {},
   "source": [
    "1. What is Object Oriented Programming (OOP)?"
   ]
  },
  {
   "cell_type": "markdown",
   "id": "d3077602",
   "metadata": {},
   "source": [
    "- OOPs stands for Object Oriented Programming paradigm which structures code using class and objects rather than just functions and logics."
   ]
  },
  {
   "cell_type": "markdown",
   "id": "788aab05",
   "metadata": {},
   "source": [
    "2. What is class in OOPs?"
   ]
  },
  {
   "cell_type": "markdown",
   "metadata": {},
   "source": [
    "- A class is a blueprint or template that defines how objects should be structured what data they hold and what action they can perform."
   ]
  },
  {
   "cell_type": "markdown",
   "metadata": {},
   "source": [
    "3. What is object in OOP?"
   ]
  },
  {
   "cell_type": "markdown",
   "metadata": {},
   "source": [
    "- An object is an instance of a class. It contains real values instead of just definitions. "
   ]
  },
  {
   "cell_type": "markdown",
   "id": "ac770ada",
   "metadata": {},
   "source": [
    "4. What is difference between abstraction and encapsulation?"
   ]
  },
  {
   "cell_type": "markdown",
   "id": "f3afb384",
   "metadata": {},
   "source": [
    "- Abstraction : It means hiding the complex implementation and showing only relevant features to the user. \n",
    "- Encapsulation : It means bundling data and methods that operates on that data, and restricting direct access."
   ]
  },
  {
   "cell_type": "markdown",
   "id": "6453e070",
   "metadata": {},
   "source": [
    "5. What are dunder methods in Python?"
   ]
  },
  {
   "cell_type": "markdown",
   "metadata": {},
   "source": [
    "- Dunder methods are special built-in methods in Python that start and end with double underscores which is used to customize the behaviour of objects we created.\n",
    "- Dunder = D + under , D = Double, under = Underscore"
   ]
  },
  {
   "cell_type": "markdown",
   "metadata": {},
   "source": [
    "6. Explain the concept of inheritence in OOP."
   ]
  },
  {
   "cell_type": "markdown",
   "metadata": {},
   "source": [
    "- It means one class (child) can reuse the properties and behaviour (i.e., attributes and methods) of another class (parent)."
   ]
  },
  {
   "cell_type": "markdown",
   "metadata": {},
   "source": [
    "7. What is polymorphism in OOP?"
   ]
  },
  {
   "cell_type": "markdown",
   "metadata": {},
   "source": [
    "- Poly = Many, Morph = Forms\n",
    "- Polymorphism means same function or method behaving differently based on the object/ context."
   ]
  },
  {
   "cell_type": "markdown",
   "metadata": {},
   "source": [
    "8. How is encapsulation achieved in Python?"
   ]
  },
  {
   "cell_type": "markdown",
   "id": "a089ca65",
   "metadata": {},
   "source": [
    "- Python uses a system of access modifiers to encapsulate data:\n",
    "1. public : open to everyone\n",
    "2. _protected : semi private\n",
    "3. __private : strongly hidden"
   ]
  },
  {
   "cell_type": "markdown",
   "metadata": {},
   "source": [
    "9. What is constructor in Python?"
   ]
  },
  {
   "cell_type": "markdown",
   "metadata": {},
   "source": [
    "- A constructor is a special method that gets called automatically when you create an object from a class, like __init__, __str__, many mor."
   ]
  },
  {
   "cell_type": "markdown",
   "id": "553c3090",
   "metadata": {},
   "source": [
    "10. What are class and static method?"
   ]
  },
  {
   "cell_type": "markdown",
   "id": "610e8efc",
   "metadata": {},
   "source": [
    "`class` method:\n",
    "- Class methods are the methods which are bound to class and not bound to instance of the class.\n",
    "- CLass itself is the first arguements\n",
    "- Conventionally cls\n",
    "\n",
    "`static` method :\n",
    "- The method which can be called without creating any instance of the class and without using any self or cls."
   ]
  },
  {
   "cell_type": "markdown",
   "id": "5b2e75af",
   "metadata": {},
   "source": [
    "11. What is method overloading in Python?"
   ]
  },
  {
   "cell_type": "markdown",
   "id": "17df8b3f",
   "metadata": {},
   "source": [
    "- Python does not support method overloading natively. It only allows one method with a given name in a class."
   ]
  },
  {
   "cell_type": "markdown",
   "id": "49a7445b",
   "metadata": {},
   "source": [
    "12. What is method overriding in Python?"
   ]
  },
  {
   "cell_type": "markdown",
   "id": "89c15822",
   "metadata": {},
   "source": [
    "- Method in parent class and child class with same method (signature) and then child class method will be executed"
   ]
  },
  {
   "cell_type": "markdown",
   "id": "fa765728",
   "metadata": {},
   "source": [
    "13. What is property decorator in Python?"
   ]
  },
  {
   "cell_type": "markdown",
   "id": "613e5355",
   "metadata": {},
   "source": [
    "- Property decorator allows us to access methods like attributes, while keeping the logic hidden inside a method. In simple we can say it turns method into attributes"
   ]
  },
  {
   "cell_type": "markdown",
   "id": "50a7e0c3",
   "metadata": {},
   "source": [
    "14. Why polymorphism important in OOP?"
   ]
  },
  {
   "cell_type": "markdown",
   "metadata": {},
   "source": [
    "- Flexibility : Same code works on different objects\n",
    "- Reusability : No need to rewrite code for new types\n",
    "- CLeaner : less duplication, clean code\n",
    "- Feasible : Easy to debug."
   ]
  },
  {
   "cell_type": "markdown",
   "metadata": {},
   "source": [
    "15. What is an abstract class in Python?"
   ]
  },
  {
   "cell_type": "markdown",
   "metadata": {},
   "source": [
    "- Abstract class is a class that can not instantiated directly. It is inherited by other classes.\n",
    "- Basic Syntax: from abc import ABC"
   ]
  },
  {
   "cell_type": "markdown",
   "id": "0bcc2391",
   "metadata": {},
   "source": [
    "16. What are advantages of OOP?"
   ]
  },
  {
   "cell_type": "markdown",
   "id": "f2c7a325",
   "metadata": {},
   "source": [
    "1. Reusability of code in clear and consize manner\n",
    "2. Code clarity and organization\n",
    "3. Easy to scale large projects\n",
    "4. Real world modelling"
   ]
  },
  {
   "cell_type": "markdown",
   "id": "8ea7c64e",
   "metadata": {},
   "source": [
    "17. What is difference between a class variable and an instance variable?"
   ]
  },
  {
   "cell_type": "markdown",
   "metadata": {},
   "source": [
    "- *Class Variable* : It belongs to class itself and shared by all objects of the class. If we make any changes in it, it will affect all objects.\n",
    "- *Instance Variable* : It belongs to each individual object / instance and shared by only the objects that create in it. If we make any changes in it, it affects only that one object."
   ]
  },
  {
   "cell_type": "markdown",
   "id": "853baaad",
   "metadata": {},
   "source": [
    "18. What is multiple inheritence in python?"
   ]
  },
  {
   "cell_type": "markdown",
   "metadata": {},
   "source": [
    "- When a class inherits from more than one parent class , its called multiple inheritence.\n",
    "- It means a child class can access properties and methods from multiple classes."
   ]
  },
  {
   "cell_type": "markdown",
   "metadata": {},
   "source": [
    "19. Explain the purpose of \"_ _str_ _' and '_ _repr_ _\" methods in Python?"
   ]
  },
  {
   "cell_type": "markdown",
   "metadata": {},
   "source": [
    "- __str__ will return string representation of objects.\n",
    "- Another dunder method __repr__ >> means representation\n",
    "It returns unambiguous string representation of the objects as it is that can be used to recreate the objects\n"
   ]
  },
  {
   "cell_type": "markdown",
   "id": "68588ce4",
   "metadata": {},
   "source": [
    "20. What is significance of the super() function in python?"
   ]
  },
  {
   "cell_type": "markdown",
   "metadata": {},
   "source": [
    "- The super() function allows you to call a method from the parent class inside a child class, without hardcoding the parent class name."
   ]
  },
  {
   "cell_type": "markdown",
   "metadata": {},
   "source": [
    "21. What is significance of _ _ del _ _ method in python?"
   ]
  },
  {
   "cell_type": "markdown",
   "metadata": {},
   "source": [
    "- _ _ del _ _() is a destructor method. It's called automatically when an object is about to be destroyed "
   ]
  },
  {
   "cell_type": "markdown",
   "id": "eaff0e54",
   "metadata": {},
   "source": [
    "22. What is differnece between @static method and @classmethod in Python?"
   ]
  },
  {
   "cell_type": "markdown",
   "id": "8d991020",
   "metadata": {},
   "source": [
    "- @staticmethod : Behaves like a regular function inside a class; doesn’t take self or cls.\n",
    "\n",
    "- @classmethod : Takes cls, used when you want to work at class-level instead of instance"
   ]
  },
  {
   "cell_type": "markdown",
   "metadata": {},
   "source": [
    "23. How does polymorphism work in Python with inheritance?"
   ]
  },
  {
   "cell_type": "markdown",
   "metadata": {},
   "source": [
    "- When a child class overrides a method from the parent class, and we call that method using a common interface, Python dynamically chooses which version to run — based on the object type."
   ]
  },
  {
   "cell_type": "markdown",
   "metadata": {},
   "source": [
    "24. What is method chaining in Python OOP?"
   ]
  },
  {
   "cell_type": "markdown",
   "id": "1c5457eb",
   "metadata": {},
   "source": [
    "- Method chaining is when you call multiple methods on the same object in a single line, because each method returns the object itself (usually self)"
   ]
  },
  {
   "cell_type": "markdown",
   "id": "99b43822",
   "metadata": {},
   "source": [
    "25. What is the purpose of _ _ call _ _ method in python?"
   ]
  },
  {
   "cell_type": "markdown",
   "id": "31950be9",
   "metadata": {},
   "source": [
    "- The _ _ call _ _() method lets an instance of a class behave like a function, you can “call” the object itself using parentheses ()."
   ]
  },
  {
   "cell_type": "markdown",
   "id": "2e59ac8b",
   "metadata": {},
   "source": [
    "## Practical Questions"
   ]
  },
  {
   "cell_type": "markdown",
   "id": "999a0364",
   "metadata": {},
   "source": [
    "1. Create a parent class Animal with a method speak() what prints a generic message. Create a child class Dog that overrides the speak() method to print \"Bark!\"."
   ]
  },
  {
   "cell_type": "code",
   "execution_count": 1,
   "id": "de8b0390",
   "metadata": {},
   "outputs": [],
   "source": [
    "class Animal:\n",
    "    def speak(self):\n",
    "        print(\"The animal makes a sound.\")\n",
    "\n",
    "class Dog(Animal):\n",
    "    def speak(self):\n",
    "        print(\"Bark!\")"
   ]
  },
  {
   "cell_type": "code",
   "execution_count": 2,
   "id": "bfb7e162",
   "metadata": {},
   "outputs": [],
   "source": [
    "animal = Animal()\n",
    "dog = Dog()"
   ]
  },
  {
   "cell_type": "code",
   "execution_count": 3,
   "id": "8e4c3a1e",
   "metadata": {},
   "outputs": [
    {
     "name": "stdout",
     "output_type": "stream",
     "text": [
      "The animal makes a sound.\n"
     ]
    }
   ],
   "source": [
    "animal.speak()"
   ]
  },
  {
   "cell_type": "code",
   "execution_count": 4,
   "id": "1605fd19",
   "metadata": {},
   "outputs": [
    {
     "name": "stdout",
     "output_type": "stream",
     "text": [
      "Bark!\n"
     ]
    }
   ],
   "source": [
    "dog.speak()"
   ]
  },
  {
   "cell_type": "markdown",
   "id": "eedbf2a6",
   "metadata": {},
   "source": [
    "2. Write a program to create an abstract class Shape with a method area(). Derive classes Circle and Rectangle from it and implement the area() method in both."
   ]
  },
  {
   "cell_type": "code",
   "execution_count": 5,
   "id": "f11beb5a",
   "metadata": {},
   "outputs": [],
   "source": [
    "from abc import ABC, abstractmethod\n",
    "import math\n",
    "\n",
    "class Shape(ABC):\n",
    "    @abstractmethod\n",
    "    def area(self):\n",
    "        pass \n",
    "\n",
    "class Circle(Shape):\n",
    "    def __init__(self, radius):\n",
    "        self.radius = radius\n",
    "    \n",
    "    def area(self):\n",
    "        return math.pi * self.radius * self.radius\n",
    "\n",
    "class Rectangle(Shape):\n",
    "    def __init__(self, length, width):\n",
    "        self.length = length\n",
    "        self.width = width\n",
    "    \n",
    "    def area(self):\n",
    "        return self.length * self.width"
   ]
  },
  {
   "cell_type": "code",
   "execution_count": 6,
   "id": "b2e3a6e3",
   "metadata": {},
   "outputs": [],
   "source": [
    "circle = Circle(5)\n",
    "rectangle = Rectangle(4, 6)"
   ]
  },
  {
   "cell_type": "code",
   "execution_count": 7,
   "id": "94e7e614",
   "metadata": {},
   "outputs": [
    {
     "name": "stdout",
     "output_type": "stream",
     "text": [
      "Circle Area: 78.53981633974483\n",
      "Rectangle Area: 24\n"
     ]
    }
   ],
   "source": [
    "print(\"Circle Area:\", circle.area())\n",
    "print(\"Rectangle Area:\", rectangle.area()) "
   ]
  },
  {
   "cell_type": "markdown",
   "id": "2ed6f407",
   "metadata": {},
   "source": [
    "3. Implement a multi-level inheritance scenario where a class Vehicle has an attribute type. Derive a class Car and further derive a class ElectricCar that adds a battery attribute."
   ]
  },
  {
   "cell_type": "code",
   "execution_count": 8,
   "id": "82bb2663",
   "metadata": {},
   "outputs": [],
   "source": [
    "class Vehicle:\n",
    "    def __init__(self, vehicle_type):\n",
    "        self.type = vehicle_type\n",
    "\n",
    "    def show_type(self):\n",
    "        print(f\"Vehicle Type: {self.type}\")\n",
    "\n",
    "class Car(Vehicle):\n",
    "    def __init__(self, vehicle_type, brand):\n",
    "        super().__init__(vehicle_type)\n",
    "        self.brand = brand\n",
    "\n",
    "    def show_brand(self):\n",
    "        print(f\"Car Brand: {self.brand}\")\n",
    "\n",
    "class ElectricCar(Car):\n",
    "    def __init__(self, vehicle_type, brand, battery_capacity):\n",
    "        super().__init__(vehicle_type, brand)\n",
    "        self.battery = battery_capacity\n",
    "\n",
    "    def show_details(self):\n",
    "        self.show_type()\n",
    "        self.show_brand()\n",
    "        print(f\"Battery Capacity: {self.battery} kWh\")\n"
   ]
  },
  {
   "cell_type": "code",
   "execution_count": 9,
   "id": "e6cb92dc",
   "metadata": {},
   "outputs": [
    {
     "name": "stdout",
     "output_type": "stream",
     "text": [
      "Vehicle Type: Four Wheeler\n",
      "Car Brand: Tesla\n",
      "Battery Capacity: 75 kWh\n"
     ]
    }
   ],
   "source": [
    "tesla = ElectricCar(\"Four Wheeler\", \"Tesla\", 75)\n",
    "tesla.show_details()"
   ]
  },
  {
   "cell_type": "markdown",
   "id": "8a9625df",
   "metadata": {},
   "source": [
    "4. Demostrate polymorphism by creating a base class Bird with a method fly(). Create two derived classes Sparrow and Penguine that overrides the fly() method."
   ]
  },
  {
   "cell_type": "code",
   "execution_count": 10,
   "id": "c0307f19",
   "metadata": {},
   "outputs": [],
   "source": [
    "class Bird:\n",
    "    def fly(self):\n",
    "        print(\"Some birds can fly, some can not.\")\n",
    "\n",
    "class Sparrow(Bird):\n",
    "    def fly(self):\n",
    "        print(\"Sparrow flies in the sky!\")\n",
    "\n",
    "class Penguin(Bird):\n",
    "    def fly(self):\n",
    "        print(\"Penguins can not fly, but they swim.\")\n",
    "\n",
    "def bird_flight(bird_obj):\n",
    "    bird_obj.fly()"
   ]
  },
  {
   "cell_type": "code",
   "execution_count": 11,
   "id": "9684405b",
   "metadata": {},
   "outputs": [],
   "source": [
    "sparrow = Sparrow()\n",
    "penguin = Penguin()"
   ]
  },
  {
   "cell_type": "code",
   "execution_count": 12,
   "id": "34d4ddef",
   "metadata": {},
   "outputs": [
    {
     "name": "stdout",
     "output_type": "stream",
     "text": [
      "Sparrow flies in the sky!\n",
      "Penguins can not fly, but they swim.\n"
     ]
    }
   ],
   "source": [
    "bird_flight(sparrow) \n",
    "bird_flight(penguin)"
   ]
  },
  {
   "cell_type": "markdown",
   "id": "7c69e877",
   "metadata": {},
   "source": [
    "5. Write a program to demostrate encapsulation by creating a class BankAccount with private attributes balance and methods to deposits, withdraws and check balance."
   ]
  },
  {
   "cell_type": "code",
   "execution_count": 13,
   "id": "e7f40cca",
   "metadata": {},
   "outputs": [],
   "source": [
    "class BankAccount:\n",
    "    def __init__(self, initial_balance=0):\n",
    "        self.__balance = initial_balance  # private attribute\n",
    "\n",
    "    def deposit(self, amount):\n",
    "        if amount > 0:\n",
    "            self.__balance += amount\n",
    "            print(f\"Rs. {amount} deposited successfully.\")\n",
    "        else:\n",
    "            print(\"Invalid deposit amount.\")\n",
    "\n",
    "    def withdraw(self, amount):\n",
    "        if 0 < amount <= self.__balance:\n",
    "            self.__balance -= amount\n",
    "            print(f\"Rs. {amount} withdrawn successfully.\")\n",
    "        else:\n",
    "            print(\"Insufficient balance or invalid amount.\")\n",
    "\n",
    "    def check_balance(self):\n",
    "        print(f\"Current Balance: Rs. {self.__balance}\")\n"
   ]
  },
  {
   "cell_type": "code",
   "execution_count": 14,
   "id": "91a69f28",
   "metadata": {},
   "outputs": [],
   "source": [
    "account = BankAccount(1000)"
   ]
  },
  {
   "cell_type": "code",
   "execution_count": 16,
   "id": "678a62a0",
   "metadata": {},
   "outputs": [
    {
     "name": "stdout",
     "output_type": "stream",
     "text": [
      "Current Balance: Rs. 1000\n"
     ]
    }
   ],
   "source": [
    "account.check_balance()"
   ]
  },
  {
   "cell_type": "code",
   "execution_count": 17,
   "id": "4091ef16",
   "metadata": {},
   "outputs": [
    {
     "name": "stdout",
     "output_type": "stream",
     "text": [
      "Rs. 500 deposited successfully.\n"
     ]
    }
   ],
   "source": [
    "account.deposit(500)"
   ]
  },
  {
   "cell_type": "code",
   "execution_count": 18,
   "id": "4b293d68",
   "metadata": {},
   "outputs": [
    {
     "name": "stdout",
     "output_type": "stream",
     "text": [
      "Rs. 300 withdrawn successfully.\n"
     ]
    }
   ],
   "source": [
    "account.withdraw(300)"
   ]
  },
  {
   "cell_type": "code",
   "execution_count": 19,
   "id": "a4622497",
   "metadata": {},
   "outputs": [
    {
     "name": "stdout",
     "output_type": "stream",
     "text": [
      "Current Balance: Rs. 1200\n"
     ]
    }
   ],
   "source": [
    "account.check_balance()"
   ]
  },
  {
   "cell_type": "markdown",
   "id": "f4060eff",
   "metadata": {},
   "source": [
    "6. Demostrate runtime polymorphism using a method play() in a base class instrument. Derive classes Guitar and Piano that implement their own version of play()."
   ]
  },
  {
   "cell_type": "code",
   "execution_count": 23,
   "id": "d1489fd7",
   "metadata": {},
   "outputs": [],
   "source": [
    "class Instrument:\n",
    "    def play(self):\n",
    "        print(\"Playing an instrument.\")\n",
    "\n",
    "class Guitar(Instrument):\n",
    "    def play(self):\n",
    "        print(\"Strumming the guitar.\")\n",
    "\n",
    "class Piano(Instrument):\n",
    "    def play(self):\n",
    "        print(\"Playing the piano.\")\n",
    "\n",
    "def perform(instrument_obj):\n",
    "    instrument_obj.play()  \n"
   ]
  },
  {
   "cell_type": "code",
   "execution_count": 24,
   "id": "79421c6a",
   "metadata": {},
   "outputs": [],
   "source": [
    "guitar = Guitar()\n",
    "piano = Piano()"
   ]
  },
  {
   "cell_type": "code",
   "execution_count": 25,
   "id": "e371a352",
   "metadata": {},
   "outputs": [
    {
     "name": "stdout",
     "output_type": "stream",
     "text": [
      "Strumming the guitar.\n",
      "Playing the piano.\n"
     ]
    }
   ],
   "source": [
    "perform(guitar) \n",
    "perform(piano)"
   ]
  },
  {
   "cell_type": "markdown",
   "id": "0d587881",
   "metadata": {},
   "source": [
    "7. Create a class MathOperations with a class method add_numbers() to add two numbers and a static method subtract_numbers() to subtract two numbers."
   ]
  },
  {
   "cell_type": "code",
   "execution_count": 26,
   "id": "30a2abcd",
   "metadata": {},
   "outputs": [],
   "source": [
    "class MathOperations:\n",
    "    \n",
    "    @classmethod\n",
    "    def add_numbers(cls, a, b):\n",
    "        return a + b\n",
    "\n",
    "    @staticmethod\n",
    "    def subtract_numbers(a, b):\n",
    "        return a - b\n"
   ]
  },
  {
   "cell_type": "code",
   "execution_count": 27,
   "id": "f61aa394",
   "metadata": {},
   "outputs": [
    {
     "name": "stdout",
     "output_type": "stream",
     "text": [
      "Sum: 15\n"
     ]
    }
   ],
   "source": [
    "sum_result = MathOperations.add_numbers(10, 5)\n",
    "print(\"Sum:\", sum_result)"
   ]
  },
  {
   "cell_type": "code",
   "execution_count": 28,
   "id": "7ec8635e",
   "metadata": {},
   "outputs": [
    {
     "name": "stdout",
     "output_type": "stream",
     "text": [
      "Difference: 5\n"
     ]
    }
   ],
   "source": [
    "diff_result = MathOperations.subtract_numbers(10, 5)\n",
    "print(\"Difference:\", diff_result)"
   ]
  },
  {
   "cell_type": "markdown",
   "id": "8b5bf78b",
   "metadata": {},
   "source": [
    "8. Implement a class Person with a class method to count the total number of persons created."
   ]
  },
  {
   "cell_type": "code",
   "execution_count": 31,
   "id": "23d943ef",
   "metadata": {},
   "outputs": [],
   "source": [
    "class Person:\n",
    "    count = 0 \n",
    "\n",
    "    def __init__(self, name):\n",
    "        self.name = name\n",
    "        Person.count += 1 \n",
    "\n",
    "    @classmethod\n",
    "    def total_persons(cls):\n",
    "        return cls.count\n"
   ]
  },
  {
   "cell_type": "code",
   "execution_count": 32,
   "id": "7a9eab15",
   "metadata": {},
   "outputs": [],
   "source": [
    "p1 = Person(\"Anu\")\n",
    "p2 = Person(\"Deep\")\n",
    "p3 = Person(\"G.T.\")"
   ]
  },
  {
   "cell_type": "code",
   "execution_count": 33,
   "id": "27c3ce29",
   "metadata": {},
   "outputs": [
    {
     "name": "stdout",
     "output_type": "stream",
     "text": [
      "Total Persons Created: 3\n"
     ]
    }
   ],
   "source": [
    "print(\"Total Persons Created:\", Person.total_persons())"
   ]
  },
  {
   "cell_type": "markdown",
   "id": "b3ae7670",
   "metadata": {},
   "source": [
    "9. Write a class Fraction with attributes numerator and denominator. Override the str method to display the fraction as \"numerator/denominator\"."
   ]
  },
  {
   "cell_type": "code",
   "execution_count": 34,
   "id": "55cc3f85",
   "metadata": {},
   "outputs": [],
   "source": [
    "class Fraction:\n",
    "    def __init__(self, numerator, denominator):\n",
    "        self.numerator = numerator\n",
    "        self.denominator = denominator\n",
    "\n",
    "    def __str__(self):\n",
    "        return f\"{self.numerator}/{self.denominator}\"\n"
   ]
  },
  {
   "cell_type": "code",
   "execution_count": 35,
   "id": "4aa3e50a",
   "metadata": {},
   "outputs": [],
   "source": [
    "f1 = Fraction(3, 4)\n",
    "f2 = Fraction(7, 2)"
   ]
  },
  {
   "cell_type": "code",
   "execution_count": 36,
   "id": "b547d6df",
   "metadata": {},
   "outputs": [
    {
     "name": "stdout",
     "output_type": "stream",
     "text": [
      "3/4\n",
      "7/2\n"
     ]
    }
   ],
   "source": [
    "print(f1)\n",
    "print(f2)  \n"
   ]
  },
  {
   "cell_type": "markdown",
   "id": "eaa55454",
   "metadata": {},
   "source": [
    "10. Demonstrate operator overloading by creating a class Vector and overriding the add method to add two vectors."
   ]
  },
  {
   "cell_type": "code",
   "execution_count": 37,
   "id": "b209b0e9",
   "metadata": {},
   "outputs": [],
   "source": [
    "class Vector:\n",
    "    def __init__(self, x, y):\n",
    "        self.x = x\n",
    "        self.y = y\n",
    "\n",
    "    def __add__(self, other):\n",
    "        new_x = self.x + other.x\n",
    "        new_y = self.y + other.y\n",
    "        return Vector(new_x, new_y)\n",
    "\n",
    "    def __str__(self):\n",
    "        return f\"({self.x}, {self.y})\"\n"
   ]
  },
  {
   "cell_type": "code",
   "execution_count": 38,
   "id": "fb78bf72",
   "metadata": {},
   "outputs": [],
   "source": [
    "v1 = Vector(2, 3)\n",
    "v2 = Vector(4, 5)"
   ]
  },
  {
   "cell_type": "code",
   "execution_count": 39,
   "id": "8adb4df5",
   "metadata": {},
   "outputs": [],
   "source": [
    "v3 = v1 + v2"
   ]
  },
  {
   "cell_type": "code",
   "execution_count": 40,
   "id": "3e450dcb",
   "metadata": {},
   "outputs": [
    {
     "name": "stdout",
     "output_type": "stream",
     "text": [
      "v1: (2, 3)\n",
      "v2: (4, 5)\n",
      "v1 + v2 = (6, 8)\n"
     ]
    }
   ],
   "source": [
    "print(\"v1:\", v1) \n",
    "print(\"v2:\", v2)  \n",
    "print(\"v1 + v2 =\", v3) "
   ]
  },
  {
   "cell_type": "markdown",
   "id": "ed22d2ad",
   "metadata": {},
   "source": [
    "11. Create a class Person with attributes name and age. Add a method greet() that prints \"Hello, my name is {name} and I am {age} years old.\""
   ]
  },
  {
   "cell_type": "code",
   "execution_count": 41,
   "id": "0e6f3d98",
   "metadata": {},
   "outputs": [],
   "source": [
    "class Person:\n",
    "    def __init__(self, name, age):\n",
    "        self.name = name\n",
    "        self.age = age\n",
    "\n",
    "    def greet(self):\n",
    "        print(f\"Hello, my name is {self.name} and I am {self.age} years old.\")\n"
   ]
  },
  {
   "cell_type": "code",
   "execution_count": 43,
   "id": "6367d528",
   "metadata": {},
   "outputs": [],
   "source": [
    "p1 = Person(\"Prag\", 24)\n",
    "p2 = Person(\"Anu\", 26)"
   ]
  },
  {
   "cell_type": "code",
   "execution_count": 44,
   "id": "d36995f8",
   "metadata": {},
   "outputs": [
    {
     "name": "stdout",
     "output_type": "stream",
     "text": [
      "Hello, my name is Prag and I am 24 years old.\n"
     ]
    }
   ],
   "source": [
    "p1.greet()"
   ]
  },
  {
   "cell_type": "code",
   "execution_count": 45,
   "id": "ae2ce76d",
   "metadata": {},
   "outputs": [
    {
     "name": "stdout",
     "output_type": "stream",
     "text": [
      "Hello, my name is Anu and I am 26 years old.\n"
     ]
    }
   ],
   "source": [
    "p2.greet()"
   ]
  },
  {
   "cell_type": "markdown",
   "id": "d1463715",
   "metadata": {},
   "source": [
    "12. Implement a class Student with attributes name and grades. Create a method average_grades() to compute the average of the grades."
   ]
  },
  {
   "cell_type": "code",
   "execution_count": 47,
   "id": "09b3ca81",
   "metadata": {},
   "outputs": [],
   "source": [
    "class Student:\n",
    "    def __init__(self, name, grades):\n",
    "        self.name = name\n",
    "        self.grades = grades \n",
    "\n",
    "    def average_grades(self):\n",
    "        if not self.grades:\n",
    "            return 0\n",
    "        return sum(self.grades) / len(self.grades)\n",
    "\n",
    "    def show_info(self):\n",
    "        avg = self.average_grades()\n",
    "        print(f\"{self.name}'s average grade is: {avg:.2f}\")"
   ]
  },
  {
   "cell_type": "code",
   "execution_count": 48,
   "id": "35cd7426",
   "metadata": {},
   "outputs": [],
   "source": [
    "s1 = Student(\"Prag\", [85, 92, 78, 90])\n",
    "s2 = Student(\"Anu\", [88, 76, 91])"
   ]
  },
  {
   "cell_type": "code",
   "execution_count": 49,
   "id": "683fea3f",
   "metadata": {},
   "outputs": [
    {
     "name": "stdout",
     "output_type": "stream",
     "text": [
      "Prag's average grade is: 86.25\n"
     ]
    }
   ],
   "source": [
    "s1.show_info()"
   ]
  },
  {
   "cell_type": "code",
   "execution_count": 50,
   "id": "cd383880",
   "metadata": {},
   "outputs": [
    {
     "name": "stdout",
     "output_type": "stream",
     "text": [
      "Anu's average grade is: 85.00\n"
     ]
    }
   ],
   "source": [
    "s2.show_info()"
   ]
  },
  {
   "cell_type": "markdown",
   "id": "63ef32af",
   "metadata": {},
   "source": [
    "13. Create a class Rectangle with methods set_dimensions() to set the dimensions and area() to calculate the area."
   ]
  },
  {
   "cell_type": "code",
   "execution_count": 51,
   "id": "e04a1a2e",
   "metadata": {},
   "outputs": [],
   "source": [
    "class Rectangle:\n",
    "    def __init__(self):\n",
    "        self.length = 0\n",
    "        self.width = 0\n",
    "\n",
    "    def set_dimensions(self, length, width):\n",
    "        self.length = length\n",
    "        self.width = width\n",
    "\n",
    "    def area(self):\n",
    "        return self.length * self.width"
   ]
  },
  {
   "cell_type": "code",
   "execution_count": 52,
   "id": "e9c5035a",
   "metadata": {},
   "outputs": [],
   "source": [
    "rect = Rectangle()"
   ]
  },
  {
   "cell_type": "code",
   "execution_count": 53,
   "id": "d6bf05cc",
   "metadata": {},
   "outputs": [],
   "source": [
    "rect.set_dimensions(5, 3)"
   ]
  },
  {
   "cell_type": "code",
   "execution_count": 54,
   "id": "f086e2b3",
   "metadata": {},
   "outputs": [
    {
     "name": "stdout",
     "output_type": "stream",
     "text": [
      "Area of Rectangle: 15\n"
     ]
    }
   ],
   "source": [
    "print(\"Area of Rectangle:\", rect.area())"
   ]
  },
  {
   "cell_type": "markdown",
   "id": "31ef09c0",
   "metadata": {},
   "source": [
    "14. Create a class Employee with a method calculate_salary() that computes the salary based on hours worked and hourly rate. Create a derived class Manager that adds a bonus to the salary."
   ]
  },
  {
   "cell_type": "code",
   "execution_count": 55,
   "id": "bb8cc903",
   "metadata": {},
   "outputs": [],
   "source": [
    "class Employee:\n",
    "    def __init__(self, name, hours_worked, hourly_rate):\n",
    "        self.name = name\n",
    "        self.hours_worked = hours_worked\n",
    "        self.hourly_rate = hourly_rate\n",
    "\n",
    "    def calculate_salary(self):\n",
    "        return self.hours_worked * self.hourly_rate\n",
    "\n",
    "class Manager(Employee):\n",
    "    def __init__(self, name, hours_worked, hourly_rate, bonus):\n",
    "        super().__init__(name, hours_worked, hourly_rate)\n",
    "        self.bonus = bonus\n",
    "\n",
    "    def calculate_salary(self):\n",
    "        base_salary = super().calculate_salary()\n",
    "        return base_salary + self.bonus"
   ]
  },
  {
   "cell_type": "code",
   "execution_count": 56,
   "id": "cb58d5d6",
   "metadata": {},
   "outputs": [],
   "source": [
    "emp = Employee(\"Prag\", 40, 200)\n",
    "mgr = Manager(\"Anu\", 45, 250, 5000)"
   ]
  },
  {
   "cell_type": "code",
   "execution_count": 57,
   "id": "9704261c",
   "metadata": {},
   "outputs": [
    {
     "name": "stdout",
     "output_type": "stream",
     "text": [
      "Prag's Salary: Rs. 8000\n"
     ]
    }
   ],
   "source": [
    "print(f\"{emp.name}'s Salary: Rs. {emp.calculate_salary()}\") "
   ]
  },
  {
   "cell_type": "code",
   "execution_count": 58,
   "id": "ceac94d5",
   "metadata": {},
   "outputs": [
    {
     "name": "stdout",
     "output_type": "stream",
     "text": [
      "Anu's Salary: Rs. 16250\n"
     ]
    }
   ],
   "source": [
    "print(f\"{mgr.name}'s Salary: Rs. {mgr.calculate_salary()}\") "
   ]
  },
  {
   "cell_type": "markdown",
   "id": "00f01194",
   "metadata": {},
   "source": [
    "15. Create a class Product with attributes name, price and quantity. Implement a method toal_price() that calculates the total price of the product."
   ]
  },
  {
   "cell_type": "code",
   "execution_count": 63,
   "id": "aac9cbae",
   "metadata": {},
   "outputs": [],
   "source": [
    "class Product:\n",
    "    def __init__(self, name, price, quantity):\n",
    "        self.name = name\n",
    "        self.price = price\n",
    "        self.quantity = quantity\n",
    "\n",
    "    def total_price(self):\n",
    "        return self.price * self.quantity\n",
    "\n",
    "    def show_info(self):\n",
    "        print(f\"{self.name} → ₹{self.price} × {self.quantity} = ₹{self.total_price()}\")\n"
   ]
  },
  {
   "cell_type": "code",
   "execution_count": 64,
   "id": "4b0ac9d0",
   "metadata": {},
   "outputs": [],
   "source": [
    "p1 = Product(\"Laptop\", 55000, 2)\n",
    "p2 = Product(\"Earbuds\", 1500, 3)"
   ]
  },
  {
   "cell_type": "code",
   "execution_count": 65,
   "id": "68159fa4",
   "metadata": {},
   "outputs": [
    {
     "name": "stdout",
     "output_type": "stream",
     "text": [
      "Laptop → ₹55000 × 2 = ₹110000\n"
     ]
    }
   ],
   "source": [
    "p1.show_info() "
   ]
  },
  {
   "cell_type": "code",
   "execution_count": 66,
   "id": "e4578ee9",
   "metadata": {},
   "outputs": [
    {
     "name": "stdout",
     "output_type": "stream",
     "text": [
      "Earbuds → ₹1500 × 3 = ₹4500\n"
     ]
    }
   ],
   "source": [
    "p2.show_info()"
   ]
  },
  {
   "cell_type": "markdown",
   "id": "0cc7b2e7",
   "metadata": {},
   "source": [
    "16. Create a class Animal with an abstract method sound(). Create two derived classes Cow and Sheep that implement the sound() method."
   ]
  },
  {
   "cell_type": "code",
   "execution_count": 67,
   "id": "72105800",
   "metadata": {},
   "outputs": [],
   "source": [
    "from abc import ABC, abstractmethod\n",
    "\n",
    "class Animal(ABC):\n",
    "    @abstractmethod\n",
    "    def sound(self):\n",
    "        pass\n",
    "\n",
    "class Cow(Animal):\n",
    "    def sound(self):\n",
    "        return \"Moo\"\n",
    "\n",
    "class Sheep(Animal):\n",
    "    def sound(self):\n",
    "        return \"Baa\""
   ]
  },
  {
   "cell_type": "code",
   "execution_count": 68,
   "id": "883c5c85",
   "metadata": {},
   "outputs": [],
   "source": [
    "cow = Cow()\n",
    "sheep = Sheep()"
   ]
  },
  {
   "cell_type": "code",
   "execution_count": 69,
   "id": "466de09b",
   "metadata": {},
   "outputs": [
    {
     "name": "stdout",
     "output_type": "stream",
     "text": [
      "Cow says: Moo\n"
     ]
    }
   ],
   "source": [
    "print(\"Cow says:\", cow.sound())"
   ]
  },
  {
   "cell_type": "code",
   "execution_count": 70,
   "id": "bedca328",
   "metadata": {},
   "outputs": [
    {
     "name": "stdout",
     "output_type": "stream",
     "text": [
      "Sheep says: Baa\n"
     ]
    }
   ],
   "source": [
    "print(\"Sheep says:\", sheep.sound())"
   ]
  },
  {
   "cell_type": "markdown",
   "id": "9da2c71a",
   "metadata": {},
   "source": [
    "17. Create a class Book with attributes title, author and year_published. Add a method get_book_info() that returns a formatted string with the book's details."
   ]
  },
  {
   "cell_type": "code",
   "execution_count": 71,
   "id": "a1bf62bf",
   "metadata": {},
   "outputs": [],
   "source": [
    "class Book:\n",
    "    def __init__(self, title, author, year_published):\n",
    "        self.title = title\n",
    "        self.author = author\n",
    "        self.year_published = year_published\n",
    "\n",
    "    def get_book_info(self):\n",
    "        return f\" '{self.title}' by {self.author} ({self.year_published})\""
   ]
  },
  {
   "cell_type": "code",
   "execution_count": 72,
   "id": "27f97699",
   "metadata": {},
   "outputs": [],
   "source": [
    "b1 = Book(\"The Alchemist\", \"Paulo Coelho\", 1988)\n",
    "b2 = Book(\"Atomic Habits\", \"James Clear\", 2018)"
   ]
  },
  {
   "cell_type": "code",
   "execution_count": 73,
   "id": "388ace04",
   "metadata": {},
   "outputs": [
    {
     "name": "stdout",
     "output_type": "stream",
     "text": [
      " 'The Alchemist' by Paulo Coelho (1988)\n"
     ]
    }
   ],
   "source": [
    "print(b1.get_book_info())"
   ]
  },
  {
   "cell_type": "code",
   "execution_count": 74,
   "id": "a2ede5e7",
   "metadata": {},
   "outputs": [
    {
     "name": "stdout",
     "output_type": "stream",
     "text": [
      " 'Atomic Habits' by James Clear (2018)\n"
     ]
    }
   ],
   "source": [
    "print(b2.get_book_info())"
   ]
  },
  {
   "cell_type": "markdown",
   "id": "7a46de30",
   "metadata": {},
   "source": [
    "18. Create a class House with attributes address and price. Create a derived class Mansion that adds on attributes number_of_rooms."
   ]
  },
  {
   "cell_type": "code",
   "execution_count": 75,
   "id": "68f22a77",
   "metadata": {},
   "outputs": [],
   "source": [
    "class House:\n",
    "    def __init__(self, address, price):\n",
    "        self.address = address\n",
    "        self.price = price\n",
    "\n",
    "    def get_info(self):\n",
    "        return f\" Address: {self.address}, Price: ₹{self.price}\"\n",
    "\n",
    "class Mansion(House):\n",
    "    def __init__(self, address, price, number_of_rooms):\n",
    "        super().__init__(address, price)\n",
    "        self.number_of_rooms = number_of_rooms\n",
    "\n",
    "    def get_info(self):\n",
    "        return f\" Address: {self.address}, Price: ₹{self.price}, Rooms: {self.number_of_rooms}\""
   ]
  },
  {
   "cell_type": "code",
   "execution_count": 76,
   "id": "f2e9aadb",
   "metadata": {},
   "outputs": [],
   "source": [
    "h1 = House(\"123 Maple Street\", 5000000)\n",
    "m1 = Mansion(\"1 Royal Lane\", 25000000, 12)"
   ]
  },
  {
   "cell_type": "code",
   "execution_count": 77,
   "id": "406360e7",
   "metadata": {},
   "outputs": [
    {
     "name": "stdout",
     "output_type": "stream",
     "text": [
      " Address: 123 Maple Street, Price: ₹5000000\n"
     ]
    }
   ],
   "source": [
    "print(h1.get_info())"
   ]
  },
  {
   "cell_type": "code",
   "execution_count": 78,
   "id": "eda7b344",
   "metadata": {},
   "outputs": [
    {
     "name": "stdout",
     "output_type": "stream",
     "text": [
      " Address: 1 Royal Lane, Price: ₹25000000, Rooms: 12\n"
     ]
    }
   ],
   "source": [
    "print(m1.get_info())"
   ]
  },
  {
   "cell_type": "code",
   "execution_count": null,
   "id": "04ba2e8c",
   "metadata": {},
   "outputs": [],
   "source": []
  }
 ],
 "metadata": {
  "kernelspec": {
   "display_name": "Python 3",
   "language": "python",
   "name": "python3"
  },
  "language_info": {
   "codemirror_mode": {
    "name": "ipython",
    "version": 3
   },
   "file_extension": ".py",
   "mimetype": "text/x-python",
   "name": "python",
   "nbconvert_exporter": "python",
   "pygments_lexer": "ipython3",
   "version": "3.13.5"
  }
 },
 "nbformat": 4,
 "nbformat_minor": 5
}
